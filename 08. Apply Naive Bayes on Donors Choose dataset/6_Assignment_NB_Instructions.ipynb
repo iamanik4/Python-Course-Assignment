{
 "cells": [
  {
   "cell_type": "markdown",
   "metadata": {
    "colab_type": "text",
    "id": "Dnubs-Nnb3cw"
   },
   "source": [
    "# Assignment 6: Apply NB"
   ]
  },
  {
   "cell_type": "markdown",
   "metadata": {
    "colab_type": "text",
    "id": "12krXa2pb3c1"
   },
   "source": [
    "<ol>\n",
    "    <li><strong>Apply Multinomial NB on these feature sets</strong>\n",
    "        <ul>\n",
    "            <li><font color='red'>Set 1</font>: categorical, numerical features + preprocessed_eassay (BOW)</li>\n",
    "            <li><font color='red'>Set 2</font>: categorical, numerical features + preprocessed_eassay (TFIDF)</li>\n",
    "        </ul>\n",
    "    </li>\n",
    "    <li><strong>The hyper paramter tuning(find best alpha:smoothing parameter)</strong>\n",
    "        <ul>\n",
    "    <li>Find the best hyper parameter which will give the maximum <a href='https://www.appliedaicourse.com/course/applied-ai-course-online/lessons/receiver-operating-characteristic-curve-roc-curve-and-auc-1/'>AUC</a> value</li>\n",
    "    <li>find the best hyper paramter using k-fold cross validation(use GridsearchCV or RandomsearchCV)/simple cross validation data (write for loop to iterate over hyper parameter values)</li>\n",
    "    <li></li>\n",
    "        </ul>\n",
    "    </li>\n",
    "    <li>\n",
    "    <strong>Representation of results</strong>\n",
    "        <ul>\n",
    "    <li>You need to plot the performance of model both on train data and cross validation data for each hyper parameter, like shown in the figure\n",
    "    <img src='https://i.imgur.com/hUv6aEy.jpg' width=300px></li>\n",
    "    <li>Once after you found the best hyper parameter, you need to train your model with it, and find the AUC on test data and plot the ROC curve on both train and test.\n",
    "    <img src='https://i.imgur.com/wMQDTFe.jpg' width=300px></li>\n",
    "    <li>Along with plotting ROC curve, you need to print the <a href='https://www.appliedaicourse.com/course/applied-ai-course-online/lessons/confusion-matrix-tpr-fpr-fnr-tnr-1/'>confusion matrix</a> with predicted and original labels of test data points\n",
    "    <img src='https://i.imgur.com/IdN5Ctv.png' width=300px></li>\n",
    "        </ul>\n",
    "    </li>\n",
    "    <li>\n",
    "fine the top 20 features from either from feature <font color='red'>Set 1</font> or feature <font color='red'>Set 2</font> using absolute values of `feature_log_prob_ ` parameter of `MultinomialNB` \n",
    "(https://scikit-learn.org/stable/modules/generated/sklearn.naive_bayes.MultinomialNB.html) and print their corresponding feature names\n",
    "    </li>\n",
    "    <li>You need to summarize the results at the end of the notebook, summarize it in the table format\n",
    "        <img src='http://i.imgur.com/YVpIGGE.jpg' width=400px>\n",
    "    </li>\n",
    "</ol>"
   ]
  },
  {
   "cell_type": "markdown",
   "metadata": {
    "colab_type": "text",
    "id": "inzYCIaib3c3"
   },
   "source": [
    "<h1>2. Naive Bayes </h1>"
   ]
  },
  {
   "cell_type": "markdown",
   "metadata": {
    "colab_type": "text",
    "id": "FYqCIxzFb3c5"
   },
   "source": [
    "## 1.1 Loading Data"
   ]
  },
  {
   "cell_type": "code",
   "execution_count": 1,
   "metadata": {
    "colab": {},
    "colab_type": "code",
    "id": "dA1jknyqb3c_",
    "scrolled": true
   },
   "outputs": [
    {
     "name": "stdout",
     "output_type": "stream",
     "text": [
      "Index(['school_state', 'teacher_prefix', 'project_grade_category',\n",
      "       'teacher_number_of_previously_posted_projects', 'project_is_approved',\n",
      "       'clean_categories', 'clean_subcategories', 'essay', 'price'],\n",
      "      dtype='object')\n"
     ]
    },
    {
     "data": {
      "text/html": [
       "<div>\n",
       "<style>\n",
       "    .dataframe thead tr:only-child th {\n",
       "        text-align: right;\n",
       "    }\n",
       "\n",
       "    .dataframe thead th {\n",
       "        text-align: left;\n",
       "    }\n",
       "\n",
       "    .dataframe tbody tr th {\n",
       "        vertical-align: top;\n",
       "    }\n",
       "</style>\n",
       "<table border=\"1\" class=\"dataframe\">\n",
       "  <thead>\n",
       "    <tr style=\"text-align: right;\">\n",
       "      <th></th>\n",
       "      <th>school_state</th>\n",
       "      <th>teacher_prefix</th>\n",
       "      <th>project_grade_category</th>\n",
       "      <th>teacher_number_of_previously_posted_projects</th>\n",
       "      <th>project_is_approved</th>\n",
       "      <th>clean_categories</th>\n",
       "      <th>clean_subcategories</th>\n",
       "      <th>essay</th>\n",
       "      <th>price</th>\n",
       "    </tr>\n",
       "  </thead>\n",
       "  <tbody>\n",
       "    <tr>\n",
       "      <th>0</th>\n",
       "      <td>ca</td>\n",
       "      <td>mrs</td>\n",
       "      <td>grades_prek_2</td>\n",
       "      <td>53</td>\n",
       "      <td>1</td>\n",
       "      <td>math_science</td>\n",
       "      <td>appliedsciences health_lifescience</td>\n",
       "      <td>i fortunate enough use fairy tale stem kits cl...</td>\n",
       "      <td>725.05</td>\n",
       "    </tr>\n",
       "    <tr>\n",
       "      <th>1</th>\n",
       "      <td>ut</td>\n",
       "      <td>ms</td>\n",
       "      <td>grades_3_5</td>\n",
       "      <td>4</td>\n",
       "      <td>1</td>\n",
       "      <td>specialneeds</td>\n",
       "      <td>specialneeds</td>\n",
       "      <td>imagine 8 9 years old you third grade classroo...</td>\n",
       "      <td>213.03</td>\n",
       "    </tr>\n",
       "  </tbody>\n",
       "</table>\n",
       "</div>"
      ],
      "text/plain": [
       "  school_state teacher_prefix project_grade_category  \\\n",
       "0           ca            mrs          grades_prek_2   \n",
       "1           ut             ms             grades_3_5   \n",
       "\n",
       "   teacher_number_of_previously_posted_projects  project_is_approved  \\\n",
       "0                                            53                    1   \n",
       "1                                             4                    1   \n",
       "\n",
       "  clean_categories                 clean_subcategories  \\\n",
       "0     math_science  appliedsciences health_lifescience   \n",
       "1     specialneeds                        specialneeds   \n",
       "\n",
       "                                               essay   price  \n",
       "0  i fortunate enough use fairy tale stem kits cl...  725.05  \n",
       "1  imagine 8 9 years old you third grade classroo...  213.03  "
      ]
     },
     "execution_count": 1,
     "metadata": {},
     "output_type": "execute_result"
    }
   ],
   "source": [
    "import pandas\n",
    "data = pandas.read_csv('preprocessed_data.csv')\n",
    "# data.shape\n",
    "print(data.columns)\n",
    "data.head(2)"
   ]
  },
  {
   "cell_type": "markdown",
   "metadata": {
    "colab_type": "text",
    "id": "WtVV13Fyb3dH"
   },
   "source": [
    "<h2>1.2 Splitting data into Train and cross validation(or test): Stratified Sampling</h2>"
   ]
  },
  {
   "cell_type": "code",
   "execution_count": 2,
   "metadata": {
    "colab": {},
    "colab_type": "code",
    "id": "i-PyprDNb3dI",
    "scrolled": true
   },
   "outputs": [
    {
     "data": {
      "text/plain": [
       "((109248, 8), (65548, 8), (21850, 8), (21850, 8))"
      ]
     },
     "execution_count": 2,
     "metadata": {},
     "output_type": "execute_result"
    }
   ],
   "source": [
    "from sklearn.model_selection import train_test_split\n",
    "from sklearn.feature_extraction.text import CountVectorizer\n",
    "\n",
    "X = data.drop(['project_is_approved'],axis = 1)\n",
    "Y = data[['project_is_approved']]\n",
    "\n",
    "X_train,X_rem,Y_train,Y_rem = train_test_split(X,Y,test_size = 0.40,stratify = Y)\n",
    "X_cv,X_test,Y_cv,Y_test = train_test_split(X_rem,Y_rem,test_size = 0.50,stratify = Y_rem)\n",
    "X.shape,X_train.shape,X_cv.shape,X_test.shape"
   ]
  },
  {
   "cell_type": "markdown",
   "metadata": {
    "colab_type": "text",
    "id": "EnZwVNULb3dO"
   },
   "source": [
    "<h2>1.3 Make Data Model Ready: encoding eassay, and project_title</h2>"
   ]
  },
  {
   "cell_type": "code",
   "execution_count": 3,
   "metadata": {
    "colab": {},
    "colab_type": "code",
    "id": "-SczZKiab3dR"
   },
   "outputs": [
    {
     "name": "stdout",
     "output_type": "stream",
     "text": [
      "(65548, 8) (65548, 1)\n",
      "(21850, 8) (21850, 1)\n",
      "(21850, 8) (21850, 1)\n"
     ]
    },
    {
     "data": {
      "text/plain": [
       "CountVectorizer(analyzer='word', binary=False, decode_error='strict',\n",
       "        dtype=<class 'numpy.int64'>, encoding='utf-8', input='content',\n",
       "        lowercase=True, max_df=1.0, max_features=5000, min_df=10,\n",
       "        ngram_range=(1, 4), preprocessor=None, stop_words=None,\n",
       "        strip_accents=None, token_pattern='(?u)\\\\b\\\\w\\\\w+\\\\b',\n",
       "        tokenizer=None, vocabulary=None)"
      ]
     },
     "execution_count": 3,
     "metadata": {},
     "output_type": "execute_result"
    }
   ],
   "source": [
    "from sklearn.feature_extraction.text import CountVectorizer\n",
    "\n",
    "print(X_train.shape, Y_train.shape)\n",
    "print(X_cv.shape, Y_cv.shape)\n",
    "print(X_test.shape, Y_test.shape)\n",
    "\n",
    "vectorizer = CountVectorizer(min_df = 10, ngram_range=(1,4), max_features= 5000)\n",
    "vectorizer.fit(X_train['essay'].values)\n"
   ]
  },
  {
   "cell_type": "code",
   "execution_count": 4,
   "metadata": {},
   "outputs": [
    {
     "name": "stdout",
     "output_type": "stream",
     "text": [
      "(65548, 5000)\n",
      "(21850, 5000)\n",
      "(21850, 5000)\n"
     ]
    }
   ],
   "source": [
    "X_train_essay_bow = vectorizer.transform(X_train['essay'].values)\n",
    "X_test_essay_bow = vectorizer.transform(X_test['essay'].values)\n",
    "X_cv_essay_bow = vectorizer.transform(X_cv['essay'].values)\n",
    "X_essay_features = vectorizer.get_feature_names()\n",
    "\n",
    "print(X_train_essay_bow.shape)\n",
    "print(X_test_essay_bow.shape)\n",
    "print(X_cv_essay_bow.shape)"
   ]
  },
  {
   "cell_type": "markdown",
   "metadata": {
    "colab_type": "text",
    "id": "bGy86kgHb3dX"
   },
   "source": [
    "<h2>1.4 Make Data Model Ready: encoding numerical, categorical features</h2>"
   ]
  },
  {
   "cell_type": "code",
   "execution_count": 5,
   "metadata": {
    "colab": {},
    "colab_type": "code",
    "id": "EfXkofX1b3da"
   },
   "outputs": [
    {
     "name": "stdout",
     "output_type": "stream",
     "text": [
      "After vectorizations\n",
      "(65548, 51) (65548, 1)\n",
      "(21850, 51) (21850, 1)\n",
      "(21850, 51) (21850, 1)\n",
      "['ak', 'al', 'ar', 'az', 'ca', 'co', 'ct', 'dc', 'de', 'fl', 'ga', 'hi', 'ia', 'id', 'il', 'in', 'ks', 'ky', 'la', 'ma', 'md', 'me', 'mi', 'mn', 'mo', 'ms', 'mt', 'nc', 'nd', 'ne', 'nh', 'nj', 'nm', 'nv', 'ny', 'oh', 'ok', 'or', 'pa', 'ri', 'sc', 'sd', 'tn', 'tx', 'ut', 'va', 'vt', 'wa', 'wi', 'wv', 'wy']\n",
      "====================================================================================================\n"
     ]
    }
   ],
   "source": [
    "# encoding categorical features: School State\n",
    "\n",
    "vectorizer = CountVectorizer()\n",
    "vectorizer.fit(X_train['school_state'].values) # fit has to happen only on train data\n",
    "\n",
    "# we use the fitted CountVectorizer to convert the text to vector\n",
    "X_train_state_ohe = vectorizer.transform(X_train['school_state'].values)\n",
    "X_cv_state_ohe = vectorizer.transform(X_cv['school_state'].values)\n",
    "X_test_state_ohe = vectorizer.transform(X_test['school_state'].values)\n",
    "X_state_features = vectorizer.get_feature_names()\n",
    "\n",
    "print(\"After vectorizations\")\n",
    "print(X_train_state_ohe.shape, Y_train.shape)\n",
    "print(X_cv_state_ohe.shape, Y_cv.shape)\n",
    "print(X_test_state_ohe.shape, Y_test.shape)\n",
    "print(vectorizer.get_feature_names())\n",
    "print(\"=\"*100)"
   ]
  },
  {
   "cell_type": "code",
   "execution_count": 6,
   "metadata": {},
   "outputs": [
    {
     "name": "stdout",
     "output_type": "stream",
     "text": [
      "After vectorizations\n",
      "(65548, 5) (65548, 1)\n",
      "(21850, 5) (21850, 1)\n",
      "(21850, 5) (21850, 1)\n",
      "['dr', 'mr', 'mrs', 'ms', 'teacher']\n",
      "====================================================================================================\n"
     ]
    }
   ],
   "source": [
    "# encoding categorical features: teacher_prefix\n",
    "\n",
    "vectorizer = CountVectorizer()\n",
    "vectorizer.fit(X_train['teacher_prefix'].values) # fit has to happen only on train data\n",
    "\n",
    "# we use the fitted CountVectorizer to convert the text to vector\n",
    "X_train_teacher_ohe = vectorizer.transform(X_train['teacher_prefix'].values)\n",
    "X_cv_teacher_ohe = vectorizer.transform(X_cv['teacher_prefix'].values)\n",
    "X_test_teacher_ohe = vectorizer.transform(X_test['teacher_prefix'].values)\n",
    "X_teacher_features = vectorizer.get_feature_names()\n",
    "\n",
    "print(\"After vectorizations\")\n",
    "print(X_train_teacher_ohe.shape, Y_train.shape)\n",
    "print(X_cv_teacher_ohe.shape, Y_cv.shape)\n",
    "print(X_test_teacher_ohe.shape, Y_test.shape)\n",
    "print(vectorizer.get_feature_names())\n",
    "print(\"=\"*100)"
   ]
  },
  {
   "cell_type": "code",
   "execution_count": 7,
   "metadata": {},
   "outputs": [
    {
     "name": "stdout",
     "output_type": "stream",
     "text": [
      "After vectorizations\n",
      "(65548, 9) (65548, 1)\n",
      "(21850, 9) (21850, 1)\n",
      "(21850, 9) (21850, 1)\n",
      "['appliedlearning', 'care_hunger', 'health_sports', 'history_civics', 'literacy_language', 'math_science', 'music_arts', 'specialneeds', 'warmth']\n",
      "====================================================================================================\n"
     ]
    }
   ],
   "source": [
    "# encoding categorical features: clean_categories\n",
    "\n",
    "vectorizer = CountVectorizer()\n",
    "vectorizer.fit(X_train['clean_categories'].values) # fit has to happen only on train data\n",
    "# print(vectorizer.get_feature_names())\n",
    "# we use the fitted CountVectorizer to convert the text to vector\n",
    "X_train_category_ohe = vectorizer.transform(X_train['clean_categories'].values)\n",
    "X_cv_category_ohe = vectorizer.transform(X_cv['clean_categories'].values)\n",
    "X_test_category_ohe = vectorizer.transform(X_test['clean_categories'].values)\n",
    "X_category_features = vectorizer.get_feature_names()\n",
    "\n",
    "print(\"After vectorizations\")\n",
    "print(X_train_category_ohe.shape, Y_train.shape)\n",
    "print(X_cv_category_ohe.shape, Y_cv.shape)\n",
    "print(X_test_category_ohe.shape, Y_test.shape)\n",
    "print(vectorizer.get_feature_names())\n",
    "print(\"=\"*100)"
   ]
  },
  {
   "cell_type": "code",
   "execution_count": 8,
   "metadata": {},
   "outputs": [
    {
     "name": "stdout",
     "output_type": "stream",
     "text": [
      "After vectorizations\n",
      "(65548, 30) (65548, 1)\n",
      "(21850, 30) (21850, 1)\n",
      "(21850, 30) (21850, 1)\n",
      "['appliedsciences', 'care_hunger', 'charactereducation', 'civics_government', 'college_careerprep', 'communityservice', 'earlydevelopment', 'economics', 'environmentalscience', 'esl', 'extracurricular', 'financialliteracy', 'foreignlanguages', 'gym_fitness', 'health_lifescience', 'health_wellness', 'history_geography', 'literacy', 'literature_writing', 'mathematics', 'music', 'nutritioneducation', 'other', 'parentinvolvement', 'performingarts', 'socialsciences', 'specialneeds', 'teamsports', 'visualarts', 'warmth']\n",
      "====================================================================================================\n"
     ]
    }
   ],
   "source": [
    "# encoding categorical features: clean_subcategories\n",
    "\n",
    "vectorizer = CountVectorizer()\n",
    "vectorizer.fit(X_train['clean_subcategories'].values) # fit has to happen only on train data\n",
    "# print(vectorizer.get_feature_names())\n",
    "# we use the fitted CountVectorizer to convert the text to vector\n",
    "X_train_subcategory_ohe = vectorizer.transform(X_train['clean_subcategories'].values)\n",
    "X_cv_subcategory_ohe = vectorizer.transform(X_cv['clean_subcategories'].values)\n",
    "X_test_subcategory_ohe = vectorizer.transform(X_test['clean_subcategories'].values)\n",
    "X_subcategory_features = vectorizer.get_feature_names()\n",
    "\n",
    "print(\"After vectorizations\")\n",
    "print(X_train_subcategory_ohe.shape, Y_train.shape)\n",
    "print(X_cv_subcategory_ohe.shape, Y_cv.shape)\n",
    "print(X_test_subcategory_ohe.shape, Y_test.shape)\n",
    "print(vectorizer.get_feature_names())\n",
    "print(\"=\"*100)"
   ]
  },
  {
   "cell_type": "code",
   "execution_count": 9,
   "metadata": {},
   "outputs": [
    {
     "name": "stdout",
     "output_type": "stream",
     "text": [
      "After vectorizations\n",
      "(65548, 4) (65548, 1)\n",
      "(21850, 4) (21850, 1)\n",
      "(21850, 4) (21850, 1)\n",
      "['grades_3_5', 'grades_6_8', 'grades_9_12', 'grades_prek_2']\n",
      "====================================================================================================\n"
     ]
    }
   ],
   "source": [
    "# encoding categorical features: project_grade_category\n",
    "\n",
    "vectorizer = CountVectorizer()\n",
    "\n",
    "vectorizer.fit(X_train['project_grade_category'].values) #\n",
    "\n",
    "vectorizer = CountVectorizer()\n",
    "vectorizer.fit(X_train['project_grade_category'].values) # fit has to happen only on train data\n",
    "\n",
    "# we use the fitted CountVectorizer to convert the text to vector\n",
    "X_train_grade_ohe = vectorizer.transform(X_train['project_grade_category'].values)\n",
    "X_cv_grade_ohe = vectorizer.transform(X_cv['project_grade_category'].values)\n",
    "X_test_grade_ohe = vectorizer.transform(X_test['project_grade_category'].values)\n",
    "X_grade_features = vectorizer.get_feature_names()\n",
    "\n",
    "print(\"After vectorizations\")\n",
    "print(X_train_grade_ohe.shape, Y_train.shape)\n",
    "print(X_cv_grade_ohe.shape, Y_cv.shape)\n",
    "print(X_test_grade_ohe.shape, Y_test.shape)\n",
    "print(vectorizer.get_feature_names())\n",
    "print(\"=\"*100)"
   ]
  },
  {
   "cell_type": "code",
   "execution_count": 10,
   "metadata": {},
   "outputs": [
    {
     "name": "stdout",
     "output_type": "stream",
     "text": [
      "After vectorizations\n",
      "(65548, 1) (65548, 1)\n",
      "(21850, 1) (21850, 1)\n",
      "(21850, 1) (21850, 1)\n",
      "====================================================================================================\n"
     ]
    }
   ],
   "source": [
    "# encoding numerical features: Price\n",
    "\n",
    "from sklearn.preprocessing import Normalizer\n",
    "normalizer = Normalizer()\n",
    "# normalizer.fit(X_train['price'].values)\n",
    "# this will rise an error Expected 2D array, got 1D array instead: \n",
    "# array=[105.22 215.96  96.01 ... 368.98  80.53 709.67].\n",
    "# Reshape your data either using \n",
    "# array.reshape(-1, 1) if your data has a single feature \n",
    "# array.reshape(1, -1)  if it contains a single sample.\n",
    "normalizer.fit(X_train['price'].values.reshape(1,-1))\n",
    "\n",
    "X_train_price_norm = normalizer.transform(X_train['price'].values.reshape(1,-1)).reshape(-1,1)\n",
    "X_cv_price_norm = normalizer.transform(X_cv['price'].values.reshape(1,-1)).reshape(-1,1)\n",
    "X_test_price_norm = normalizer.transform(X_test['price'].values.reshape(1,-1)).reshape(-1,1)\n",
    "X_price_features = ['price']\n",
    "\n",
    "\n",
    "print(\"After vectorizations\")\n",
    "print(X_train_price_norm.shape, Y_train.shape)\n",
    "print(X_cv_price_norm.shape, Y_cv.shape)\n",
    "print(X_test_price_norm.shape, Y_test.shape)\n",
    "print(\"=\"*100)"
   ]
  },
  {
   "cell_type": "markdown",
   "metadata": {},
   "source": [
    "## 1.5 Concatinating all the features"
   ]
  },
  {
   "cell_type": "code",
   "execution_count": 11,
   "metadata": {},
   "outputs": [
    {
     "name": "stdout",
     "output_type": "stream",
     "text": [
      "Final Data matrix\n",
      "(65548, 5100) (65548, 1)\n",
      "(21850, 5100) (21850, 1)\n",
      "(21850, 5100) (21850, 1)\n",
      "Feature size: 5100\n",
      "====================================================================================================\n"
     ]
    }
   ],
   "source": [
    "# merge two sparse matrices: https://stackoverflow.com/a/19710648/4084039\n",
    "from scipy.sparse import hstack\n",
    "X_tr = hstack((X_train_essay_bow, X_train_state_ohe, X_train_teacher_ohe, X_train_grade_ohe,X_train_category_ohe,X_train_subcategory_ohe, X_train_price_norm)).tocsr()\n",
    "X_cr = hstack((X_cv_essay_bow, X_cv_state_ohe, X_cv_teacher_ohe, X_cv_grade_ohe,X_cv_category_ohe,X_cv_subcategory_ohe, X_cv_price_norm)).tocsr()\n",
    "X_te = hstack((X_test_essay_bow, X_test_state_ohe, X_test_teacher_ohe, X_test_grade_ohe,X_test_category_ohe,X_test_subcategory_ohe, X_test_price_norm)).tocsr()\n",
    "X_feature = X_essay_features + X_state_features + X_teacher_features + X_grade_features + X_category_features + X_subcategory_features + X_price_features\n",
    "\n",
    "print(\"Final Data matrix\")\n",
    "print(X_tr.shape, Y_train.shape)\n",
    "print(X_cr.shape, Y_cv.shape)\n",
    "print(X_te.shape, Y_test.shape)\n",
    "print('Feature size:',len(X_feature))\n",
    "print(\"=\"*100)\n"
   ]
  },
  {
   "cell_type": "markdown",
   "metadata": {
    "colab_type": "text",
    "id": "yYHPYadYb3dh"
   },
   "source": [
    "<h2>1.5 Appling NB on different kind of featurization as mentioned in the instructions</h2>\n",
    "\n",
    "<br>Apply NB on different kind of featurization as mentioned in the instructions\n",
    "<br> For Every model that you work on make sure you do the step 2 and step 3 of instrucations"
   ]
  },
  {
   "cell_type": "markdown",
   "metadata": {},
   "source": [
    "### 1.5.1 Appling NB: BOW featurization"
   ]
  },
  {
   "cell_type": "code",
   "execution_count": 12,
   "metadata": {
    "collapsed": true
   },
   "outputs": [],
   "source": [
    "def batch_predict(cfg,data):\n",
    "    loop = data.shape[0]-data.shape[0]%1000\n",
    "    y_data_predict = []\n",
    "    for i in range(0,loop,1000):\n",
    "        y_data_predict.extend(cfg.predict_proba(data[i:i+1000])[:,1])\n",
    "    if data.shape[0]%1000 !=0:\n",
    "        y_data_predict.extend(cfg.predict_proba(data[loop:])[:,1])\n",
    "        \n",
    "    return y_data_predict"
   ]
  },
  {
   "cell_type": "code",
   "execution_count": 13,
   "metadata": {
    "colab": {},
    "colab_type": "code",
    "id": "DNwqilFxb3di",
    "scrolled": true
   },
   "outputs": [
    {
     "name": "stderr",
     "output_type": "stream",
     "text": [
      "100%|██████████| 10/10 [00:06<00:00,  1.53it/s]\n"
     ]
    },
    {
     "data": {
      "image/png": "[encoded data removed]",
      "text/plain": [
       "<matplotlib.figure.Figure at 0x1e0df50e7f0>"
      ]
     },
     "metadata": {},
     "output_type": "display_data"
    }
   ],
   "source": [
    "%matplotlib inline\n",
    "import warnings\n",
    "warnings.filterwarnings(\"ignore\")\n",
    "from sklearn.naive_bayes import MultinomialNB\n",
    "from sklearn.model_selection import GridSearchCV\n",
    "from sklearn.metrics import roc_auc_score\n",
    "import matplotlib.pyplot as plt\n",
    "from tqdm import tqdm\n",
    "import math\n",
    "\n",
    "train_auc = []\n",
    "cv_auc = []\n",
    "alpha = [0.00001,0.0001,0.001,0.01,0.1,1,10,100,1000,10000]\n",
    "for i in tqdm(alpha):\n",
    "    model = MultinomialNB(alpha = i,class_prior = [0.5, 0.5])\n",
    "    model.fit(X_tr,Y_train)\n",
    "    \n",
    "    Y_train_predict = batch_predict(model,X_tr)\n",
    "    Y_cv_predict = batch_predict(model,X_cr)\n",
    "    \n",
    "    train_auc.append(roc_auc_score(Y_train,Y_train_predict))\n",
    "    cv_auc.append(roc_auc_score(Y_cv,Y_cv_predict))\n",
    "\n",
    "log_alpha = [math.log10(i) for i in alpha]\n",
    "plt.plot(log_alpha,train_auc,label = 'Train AUC')\n",
    "plt.plot(log_alpha,cv_auc,label= 'CV AUC')\n",
    "\n",
    "plt.scatter(log_alpha,train_auc,label = 'Train AUC Points')\n",
    "plt.scatter(log_alpha,cv_auc,label = 'CV AUC Points')\n",
    "\n",
    "plt.legend()\n",
    "plt.xlabel('Log Alpha:Hyperparameter')\n",
    "plt.ylabel('AUC')\n",
    "plt.title('Error Plots')\n",
    "plt.grid()\n",
    "plt.show()"
   ]
  },
  {
   "cell_type": "code",
   "execution_count": 14,
   "metadata": {},
   "outputs": [
    {
     "data": {
      "image/png": "[encoded data removed]",
      "text/plain": [
       "<matplotlib.figure.Figure at 0x1e0db8ca278>"
      ]
     },
     "metadata": {},
     "output_type": "display_data"
    },
    {
     "data": {
      "text/html": [
       "<div>\n",
       "<style>\n",
       "    .dataframe thead tr:only-child th {\n",
       "        text-align: right;\n",
       "    }\n",
       "\n",
       "    .dataframe thead th {\n",
       "        text-align: left;\n",
       "    }\n",
       "\n",
       "    .dataframe tbody tr th {\n",
       "        vertical-align: top;\n",
       "    }\n",
       "</style>\n",
       "<table border=\"1\" class=\"dataframe\">\n",
       "  <thead>\n",
       "    <tr style=\"text-align: right;\">\n",
       "      <th></th>\n",
       "      <th>mean_fit_time</th>\n",
       "      <th>mean_score_time</th>\n",
       "      <th>mean_test_score</th>\n",
       "      <th>mean_train_score</th>\n",
       "      <th>param_alpha</th>\n",
       "      <th>params</th>\n",
       "      <th>rank_test_score</th>\n",
       "      <th>split0_test_score</th>\n",
       "      <th>split0_train_score</th>\n",
       "      <th>split1_test_score</th>\n",
       "      <th>split1_train_score</th>\n",
       "      <th>split2_test_score</th>\n",
       "      <th>split2_train_score</th>\n",
       "      <th>std_fit_time</th>\n",
       "      <th>std_score_time</th>\n",
       "      <th>std_test_score</th>\n",
       "      <th>std_train_score</th>\n",
       "    </tr>\n",
       "  </thead>\n",
       "  <tbody>\n",
       "    <tr>\n",
       "      <th>0</th>\n",
       "      <td>0.664416</td>\n",
       "      <td>0.055339</td>\n",
       "      <td>0.689952</td>\n",
       "      <td>0.726630</td>\n",
       "      <td>1e-05</td>\n",
       "      <td>{'alpha': 1e-05}</td>\n",
       "      <td>1</td>\n",
       "      <td>0.691539</td>\n",
       "      <td>0.728066</td>\n",
       "      <td>0.692299</td>\n",
       "      <td>0.725827</td>\n",
       "      <td>0.686018</td>\n",
       "      <td>0.725998</td>\n",
       "      <td>0.032319</td>\n",
       "      <td>0.012920</td>\n",
       "      <td>0.002799</td>\n",
       "      <td>0.001017</td>\n",
       "    </tr>\n",
       "    <tr>\n",
       "      <th>1</th>\n",
       "      <td>0.629079</td>\n",
       "      <td>0.076343</td>\n",
       "      <td>0.689952</td>\n",
       "      <td>0.726630</td>\n",
       "      <td>0.0001</td>\n",
       "      <td>{'alpha': 0.0001}</td>\n",
       "      <td>2</td>\n",
       "      <td>0.691539</td>\n",
       "      <td>0.728066</td>\n",
       "      <td>0.692299</td>\n",
       "      <td>0.725827</td>\n",
       "      <td>0.686018</td>\n",
       "      <td>0.725998</td>\n",
       "      <td>0.042173</td>\n",
       "      <td>0.001701</td>\n",
       "      <td>0.002799</td>\n",
       "      <td>0.001017</td>\n",
       "    </tr>\n",
       "    <tr>\n",
       "      <th>2</th>\n",
       "      <td>0.761762</td>\n",
       "      <td>0.084342</td>\n",
       "      <td>0.689951</td>\n",
       "      <td>0.726629</td>\n",
       "      <td>0.001</td>\n",
       "      <td>{'alpha': 0.001}</td>\n",
       "      <td>3</td>\n",
       "      <td>0.691538</td>\n",
       "      <td>0.728065</td>\n",
       "      <td>0.692298</td>\n",
       "      <td>0.725826</td>\n",
       "      <td>0.686018</td>\n",
       "      <td>0.725997</td>\n",
       "      <td>0.130902</td>\n",
       "      <td>0.009844</td>\n",
       "      <td>0.002799</td>\n",
       "      <td>0.001018</td>\n",
       "    </tr>\n",
       "    <tr>\n",
       "      <th>3</th>\n",
       "      <td>1.122807</td>\n",
       "      <td>0.104347</td>\n",
       "      <td>0.689947</td>\n",
       "      <td>0.726624</td>\n",
       "      <td>0.01</td>\n",
       "      <td>{'alpha': 0.01}</td>\n",
       "      <td>4</td>\n",
       "      <td>0.691534</td>\n",
       "      <td>0.728059</td>\n",
       "      <td>0.692295</td>\n",
       "      <td>0.725821</td>\n",
       "      <td>0.686014</td>\n",
       "      <td>0.725991</td>\n",
       "      <td>0.050816</td>\n",
       "      <td>0.009032</td>\n",
       "      <td>0.002799</td>\n",
       "      <td>0.001018</td>\n",
       "    </tr>\n",
       "    <tr>\n",
       "      <th>4</th>\n",
       "      <td>0.888445</td>\n",
       "      <td>0.076676</td>\n",
       "      <td>0.689907</td>\n",
       "      <td>0.726563</td>\n",
       "      <td>0.1</td>\n",
       "      <td>{'alpha': 0.1}</td>\n",
       "      <td>5</td>\n",
       "      <td>0.691488</td>\n",
       "      <td>0.728003</td>\n",
       "      <td>0.692253</td>\n",
       "      <td>0.725760</td>\n",
       "      <td>0.685978</td>\n",
       "      <td>0.725927</td>\n",
       "      <td>0.145510</td>\n",
       "      <td>0.011616</td>\n",
       "      <td>0.002795</td>\n",
       "      <td>0.001020</td>\n",
       "    </tr>\n",
       "  </tbody>\n",
       "</table>\n",
       "</div>"
      ],
      "text/plain": [
       "   mean_fit_time  mean_score_time  mean_test_score  mean_train_score  \\\n",
       "0       0.664416         0.055339         0.689952          0.726630   \n",
       "1       0.629079         0.076343         0.689952          0.726630   \n",
       "2       0.761762         0.084342         0.689951          0.726629   \n",
       "3       1.122807         0.104347         0.689947          0.726624   \n",
       "4       0.888445         0.076676         0.689907          0.726563   \n",
       "\n",
       "  param_alpha             params  rank_test_score  split0_test_score  \\\n",
       "0       1e-05   {'alpha': 1e-05}                1           0.691539   \n",
       "1      0.0001  {'alpha': 0.0001}                2           0.691539   \n",
       "2       0.001   {'alpha': 0.001}                3           0.691538   \n",
       "3        0.01    {'alpha': 0.01}                4           0.691534   \n",
       "4         0.1     {'alpha': 0.1}                5           0.691488   \n",
       "\n",
       "   split0_train_score  split1_test_score  split1_train_score  \\\n",
       "0            0.728066           0.692299            0.725827   \n",
       "1            0.728066           0.692299            0.725827   \n",
       "2            0.728065           0.692298            0.725826   \n",
       "3            0.728059           0.692295            0.725821   \n",
       "4            0.728003           0.692253            0.725760   \n",
       "\n",
       "   split2_test_score  split2_train_score  std_fit_time  std_score_time  \\\n",
       "0           0.686018            0.725998      0.032319        0.012920   \n",
       "1           0.686018            0.725998      0.042173        0.001701   \n",
       "2           0.686018            0.725997      0.130902        0.009844   \n",
       "3           0.686014            0.725991      0.050816        0.009032   \n",
       "4           0.685978            0.725927      0.145510        0.011616   \n",
       "\n",
       "   std_test_score  std_train_score  \n",
       "0        0.002799         0.001017  \n",
       "1        0.002799         0.001017  \n",
       "2        0.002799         0.001018  \n",
       "3        0.002799         0.001018  \n",
       "4        0.002795         0.001020  "
      ]
     },
     "execution_count": 14,
     "metadata": {},
     "output_type": "execute_result"
    }
   ],
   "source": [
    "from sklearn.metrics import roc_curve, auc\n",
    "import pandas as pd\n",
    "\n",
    "model_bow = MultinomialNB(class_prior = [0.5, 0.5])\n",
    "parameters = {'alpha':[0.00001,0.0001,0.001,0.01,0.1,1,10,100,1000,10000],}\n",
    "\n",
    "clf_bow = GridSearchCV(model_bow,parameters,cv = 3,n_jobs = -1,scoring = 'roc_auc')\n",
    "clf_bow.fit(X_tr,Y_train)\n",
    "\n",
    "results = pd.DataFrame.from_dict(clf_bow.cv_results_)\n",
    "# print(results.head())\n",
    "results = results.sort_values(['param_alpha'])\n",
    "\n",
    "train_auc= results['mean_train_score']\n",
    "train_auc_std= results['std_train_score']\n",
    "cv_auc = results['mean_test_score'] \n",
    "cv_auc_std= results['std_test_score']\n",
    "log_alpha =  [math.log10(i) for i in results['param_alpha']]\n",
    "\n",
    "plt.plot(log_alpha, train_auc, label='Train AUC')\n",
    "# this code is copied from here: https://stackoverflow.com/a/48803361/4084039\n",
    "# plt.gca().fill_between(K, train_auc - train_auc_std,train_auc + train_auc_std,alpha=0.2,color='darkblue')\n",
    "\n",
    "plt.plot(log_alpha, cv_auc, label='CV AUC')\n",
    "# this code is copied from here: https://stackoverflow.com/a/48803361/4084039\n",
    "# plt.gca().fill_between(K, cv_auc - cv_auc_std,cv_auc + cv_auc_std,alpha=0.2,color='darkorange')\n",
    "\n",
    "plt.scatter(log_alpha, train_auc, label='Train AUC points')\n",
    "plt.scatter(log_alpha, cv_auc, label='CV AUC points')\n",
    "\n",
    "\n",
    "plt.legend()\n",
    "plt.xlabel(\"Log Alpha: hyperparameter\")\n",
    "plt.ylabel(\"AUC\")\n",
    "plt.title(\"Hyper parameter Vs AUC plot\")\n",
    "plt.grid()\n",
    "plt.show()\n",
    "\n",
    "results.head()"
   ]
  },
  {
   "cell_type": "code",
   "execution_count": 15,
   "metadata": {
    "collapsed": true
   },
   "outputs": [],
   "source": [
    " best_alpha = 100"
   ]
  },
  {
   "cell_type": "code",
   "execution_count": 16,
   "metadata": {},
   "outputs": [
    {
     "data": {
      "image/png": "[encoded data removed]",
      "text/plain": [
       "<matplotlib.figure.Figure at 0x1e0e439be48>"
      ]
     },
     "metadata": {},
     "output_type": "display_data"
    }
   ],
   "source": [
    "# https://scikit-learn.org/stable/modules/generated/sklearn.metrics.roc_curve.html#sklearn.metrics.roc_curve\n",
    "from sklearn.metrics import roc_curve, auc\n",
    "\n",
    "best_model_bow = MultinomialNB(alpha = best_alpha)\n",
    "best_model_bow.fit(X_tr,Y_train)\n",
    "# roc_auc_score(y_true, y_score) the 2nd parameter should be probability estimates of the positive class\n",
    "# not the predicted outputs\n",
    "\n",
    "y_train_pred = batch_predict(best_model_bow, X_tr)    \n",
    "y_test_pred = batch_predict(best_model_bow, X_te)\n",
    "\n",
    "train_fpr, train_tpr, tr_thresholds = roc_curve(Y_train, y_train_pred)\n",
    "test_fpr, test_tpr, te_thresholds = roc_curve(Y_test, y_test_pred)\n",
    "\n",
    "plt.plot(train_fpr, train_tpr, label=\"train AUC =\"+str(auc(train_fpr, train_tpr)))\n",
    "plt.plot(test_fpr, test_tpr, label=\"test AUC =\"+str(auc(test_fpr, test_tpr)))\n",
    "plt.legend()\n",
    "plt.xlabel(\"Alpha: hyperparameter\")\n",
    "plt.ylabel(\"AUC\")\n",
    "plt.title(\"ERROR PLOTS\")\n",
    "plt.grid()\n",
    "plt.show()"
   ]
  },
  {
   "cell_type": "code",
   "execution_count": 17,
   "metadata": {
    "collapsed": true
   },
   "outputs": [],
   "source": [
    "import numpy as np\n",
    "\n",
    "# we are writing our own function for predict, with defined thresould\n",
    "# we will pick a threshold that will give the least fpr\n",
    "def find_best_threshold(threshould, fpr, tpr):\n",
    "    t = threshould[np.argmax(tpr*(1-fpr))]\n",
    "    # (tpr*(1-fpr)) will be maximum if your fpr is very low and tpr is very high\n",
    "    print(\"the maximum value of tpr*(1-fpr)\", max(tpr*(1-fpr)), \"for threshold\", np.round(t,3))\n",
    "    return t\n",
    "\n",
    "def predict_with_best_t(proba, threshould):\n",
    "    predictions = []\n",
    "    for i in proba:\n",
    "        if i>=threshould:\n",
    "            predictions.append(1)\n",
    "        else:\n",
    "            predictions.append(0)\n",
    "    return predictions"
   ]
  },
  {
   "cell_type": "code",
   "execution_count": 18,
   "metadata": {},
   "outputs": [
    {
     "name": "stdout",
     "output_type": "stream",
     "text": [
      "the maximum value of tpr*(1-fpr) 0.400015020153 for threshold 1.0\n",
      "Train confusion matrix\n",
      "[[ 6371  3554]\n",
      " [20961 34662]]\n",
      "Test confusion matrix\n",
      "[[ 2045  1264]\n",
      " [ 7116 11425]]\n"
     ]
    }
   ],
   "source": [
    "from sklearn.metrics import confusion_matrix\n",
    "\n",
    "best_t = find_best_threshold(tr_thresholds, train_fpr, train_tpr)\n",
    "print(\"Train confusion matrix\")\n",
    "print(confusion_matrix(Y_train, predict_with_best_t(y_train_pred, best_t)))\n",
    "print(\"Test confusion matrix\")\n",
    "print(confusion_matrix(Y_test, predict_with_best_t(y_test_pred, best_t)))"
   ]
  },
  {
   "cell_type": "markdown",
   "metadata": {},
   "source": [
    "## 1.6 Applying Naive Bayes: TfIDF featurization"
   ]
  },
  {
   "cell_type": "markdown",
   "metadata": {},
   "source": [
    "### 1.6.1 Make Data Model Ready: encoding eassay, and project_title"
   ]
  },
  {
   "cell_type": "code",
   "execution_count": 19,
   "metadata": {},
   "outputs": [
    {
     "name": "stdout",
     "output_type": "stream",
     "text": [
      "(65548, 8) (65548, 1)\n",
      "(21850, 8) (21850, 1)\n",
      "(21850, 8) (21850, 1)\n"
     ]
    }
   ],
   "source": [
    "from sklearn.feature_extraction.text import TfidfVectorizer\n",
    "\n",
    "print(X_train.shape, Y_train.shape)\n",
    "print(X_cv.shape, Y_cv.shape)\n",
    "print(X_test.shape, Y_test.shape)\n",
    "\n",
    "vectorizer = TfidfVectorizer(min_df = 10, ngram_range=(1,4), max_features= 5000)\n",
    "# vectorizer.fit(X_train['essay'].values)"
   ]
  },
  {
   "cell_type": "code",
   "execution_count": 22,
   "metadata": {},
   "outputs": [
    {
     "data": {
      "text/plain": [
       "TfidfVectorizer(analyzer='word', binary=False, decode_error='strict',\n",
       "        dtype=<class 'numpy.int64'>, encoding='utf-8', input='content',\n",
       "        lowercase=True, max_df=1.0, max_features=5000, min_df=10,\n",
       "        ngram_range=(1, 4), norm='l2', preprocessor=None, smooth_idf=True,\n",
       "        stop_words=None, strip_accents=None, sublinear_tf=False,\n",
       "        token_pattern='(?u)\\\\b\\\\w\\\\w+\\\\b', tokenizer=None, use_idf=True,\n",
       "        vocabulary=None)"
      ]
     },
     "execution_count": 22,
     "metadata": {},
     "output_type": "execute_result"
    }
   ],
   "source": [
    "vectorizer.fit(X_train['essay'].values)"
   ]
  },
  {
   "cell_type": "code",
   "execution_count": 23,
   "metadata": {},
   "outputs": [
    {
     "name": "stdout",
     "output_type": "stream",
     "text": [
      "(65548, 5000)\n",
      "(21850, 5000)\n",
      "(21850, 5000)\n"
     ]
    }
   ],
   "source": [
    "X_train_essay_tfidf = vectorizer.transform(X_train['essay'].values)\n",
    "X_test_essay_tfidf = vectorizer.transform(X_test['essay'].values)\n",
    "X_cv_essay_tfidf = vectorizer.transform(X_cv['essay'].values)\n",
    "\n",
    "print(X_train_essay_tfidf.shape)\n",
    "print(X_test_essay_tfidf.shape)\n",
    "print(X_cv_essay_tfidf.shape)"
   ]
  },
  {
   "cell_type": "markdown",
   "metadata": {},
   "source": [
    "### 1.6.2 Concatinating all the features"
   ]
  },
  {
   "cell_type": "code",
   "execution_count": 24,
   "metadata": {},
   "outputs": [
    {
     "name": "stdout",
     "output_type": "stream",
     "text": [
      "Final Data matrix\n",
      "(65548, 5100) (65548, 1)\n",
      "(65548, 5100) (21850, 1)\n",
      "(65548, 5100) (21850, 1)\n",
      "====================================================================================================\n"
     ]
    }
   ],
   "source": [
    "# merge two sparse matrices: https://stackoverflow.com/a/19710648/4084039\n",
    "\n",
    "X_tr_tfidf = hstack((X_train_essay_tfidf, X_train_state_ohe, X_train_teacher_ohe, X_train_grade_ohe,X_train_category_ohe,X_train_subcategory_ohe, X_train_price_norm)).tocsr()\n",
    "X_cr_tfidf = hstack((X_cv_essay_tfidf, X_cv_state_ohe, X_cv_teacher_ohe, X_cv_grade_ohe,X_cv_category_ohe,X_cv_subcategory_ohe, X_cv_price_norm)).tocsr()\n",
    "X_te_tfidf = hstack((X_test_essay_tfidf, X_test_state_ohe, X_test_teacher_ohe, X_test_grade_ohe,X_test_category_ohe,X_test_subcategory_ohe, X_test_price_norm)).tocsr()\n",
    "\n",
    "print(\"Final Data matrix\")\n",
    "print(X_tr_tfidf.shape, Y_train.shape)\n",
    "print(X_tr_tfidf.shape, Y_cv.shape)\n",
    "print(X_tr_tfidf.shape, Y_test.shape)\n",
    "print(\"=\"*100)\n"
   ]
  },
  {
   "cell_type": "markdown",
   "metadata": {},
   "source": [
    "### 1.6.3 Appling NB: TfIdf featurization"
   ]
  },
  {
   "cell_type": "code",
   "execution_count": 25,
   "metadata": {},
   "outputs": [
    {
     "data": {
      "image/png": "[encoded data removed]",
      "text/plain": [
       "<matplotlib.figure.Figure at 0x1e092f29940>"
      ]
     },
     "metadata": {},
     "output_type": "display_data"
    },
    {
     "data": {
      "text/html": [
       "<div>\n",
       "<style>\n",
       "    .dataframe thead tr:only-child th {\n",
       "        text-align: right;\n",
       "    }\n",
       "\n",
       "    .dataframe thead th {\n",
       "        text-align: left;\n",
       "    }\n",
       "\n",
       "    .dataframe tbody tr th {\n",
       "        vertical-align: top;\n",
       "    }\n",
       "</style>\n",
       "<table border=\"1\" class=\"dataframe\">\n",
       "  <thead>\n",
       "    <tr style=\"text-align: right;\">\n",
       "      <th></th>\n",
       "      <th>mean_fit_time</th>\n",
       "      <th>mean_score_time</th>\n",
       "      <th>mean_test_score</th>\n",
       "      <th>mean_train_score</th>\n",
       "      <th>param_alpha</th>\n",
       "      <th>params</th>\n",
       "      <th>rank_test_score</th>\n",
       "      <th>split0_test_score</th>\n",
       "      <th>split0_train_score</th>\n",
       "      <th>split1_test_score</th>\n",
       "      <th>split1_train_score</th>\n",
       "      <th>split2_test_score</th>\n",
       "      <th>split2_train_score</th>\n",
       "      <th>std_fit_time</th>\n",
       "      <th>std_score_time</th>\n",
       "      <th>std_test_score</th>\n",
       "      <th>std_train_score</th>\n",
       "    </tr>\n",
       "  </thead>\n",
       "  <tbody>\n",
       "    <tr>\n",
       "      <th>0</th>\n",
       "      <td>0.742389</td>\n",
       "      <td>0.052338</td>\n",
       "      <td>0.670590</td>\n",
       "      <td>0.708945</td>\n",
       "      <td>1e-05</td>\n",
       "      <td>{'alpha': 1e-05}</td>\n",
       "      <td>1</td>\n",
       "      <td>0.677290</td>\n",
       "      <td>0.713129</td>\n",
       "      <td>0.671664</td>\n",
       "      <td>0.705793</td>\n",
       "      <td>0.662815</td>\n",
       "      <td>0.707911</td>\n",
       "      <td>0.132715</td>\n",
       "      <td>0.004786</td>\n",
       "      <td>0.005958</td>\n",
       "      <td>0.003083</td>\n",
       "    </tr>\n",
       "    <tr>\n",
       "      <th>1</th>\n",
       "      <td>0.589043</td>\n",
       "      <td>0.051338</td>\n",
       "      <td>0.670589</td>\n",
       "      <td>0.708944</td>\n",
       "      <td>0.0001</td>\n",
       "      <td>{'alpha': 0.0001}</td>\n",
       "      <td>2</td>\n",
       "      <td>0.677289</td>\n",
       "      <td>0.713129</td>\n",
       "      <td>0.671663</td>\n",
       "      <td>0.705792</td>\n",
       "      <td>0.662814</td>\n",
       "      <td>0.707910</td>\n",
       "      <td>0.066057</td>\n",
       "      <td>0.012229</td>\n",
       "      <td>0.005958</td>\n",
       "      <td>0.003083</td>\n",
       "    </tr>\n",
       "    <tr>\n",
       "      <th>2</th>\n",
       "      <td>0.646714</td>\n",
       "      <td>0.070339</td>\n",
       "      <td>0.670583</td>\n",
       "      <td>0.708935</td>\n",
       "      <td>0.001</td>\n",
       "      <td>{'alpha': 0.001}</td>\n",
       "      <td>3</td>\n",
       "      <td>0.677282</td>\n",
       "      <td>0.713121</td>\n",
       "      <td>0.671657</td>\n",
       "      <td>0.705784</td>\n",
       "      <td>0.662808</td>\n",
       "      <td>0.707901</td>\n",
       "      <td>0.094178</td>\n",
       "      <td>0.014638</td>\n",
       "      <td>0.005958</td>\n",
       "      <td>0.003083</td>\n",
       "    </tr>\n",
       "    <tr>\n",
       "      <th>3</th>\n",
       "      <td>0.931405</td>\n",
       "      <td>0.104006</td>\n",
       "      <td>0.670520</td>\n",
       "      <td>0.708852</td>\n",
       "      <td>0.01</td>\n",
       "      <td>{'alpha': 0.01}</td>\n",
       "      <td>4</td>\n",
       "      <td>0.677217</td>\n",
       "      <td>0.713042</td>\n",
       "      <td>0.671590</td>\n",
       "      <td>0.705699</td>\n",
       "      <td>0.662753</td>\n",
       "      <td>0.707815</td>\n",
       "      <td>0.141087</td>\n",
       "      <td>0.038510</td>\n",
       "      <td>0.005953</td>\n",
       "      <td>0.003086</td>\n",
       "    </tr>\n",
       "    <tr>\n",
       "      <th>4</th>\n",
       "      <td>0.961071</td>\n",
       "      <td>0.100674</td>\n",
       "      <td>0.669893</td>\n",
       "      <td>0.708019</td>\n",
       "      <td>0.1</td>\n",
       "      <td>{'alpha': 0.1}</td>\n",
       "      <td>5</td>\n",
       "      <td>0.676565</td>\n",
       "      <td>0.712253</td>\n",
       "      <td>0.670930</td>\n",
       "      <td>0.704853</td>\n",
       "      <td>0.662184</td>\n",
       "      <td>0.706952</td>\n",
       "      <td>0.041220</td>\n",
       "      <td>0.020338</td>\n",
       "      <td>0.005917</td>\n",
       "      <td>0.003114</td>\n",
       "    </tr>\n",
       "  </tbody>\n",
       "</table>\n",
       "</div>"
      ],
      "text/plain": [
       "   mean_fit_time  mean_score_time  mean_test_score  mean_train_score  \\\n",
       "0       0.742389         0.052338         0.670590          0.708945   \n",
       "1       0.589043         0.051338         0.670589          0.708944   \n",
       "2       0.646714         0.070339         0.670583          0.708935   \n",
       "3       0.931405         0.104006         0.670520          0.708852   \n",
       "4       0.961071         0.100674         0.669893          0.708019   \n",
       "\n",
       "  param_alpha             params  rank_test_score  split0_test_score  \\\n",
       "0       1e-05   {'alpha': 1e-05}                1           0.677290   \n",
       "1      0.0001  {'alpha': 0.0001}                2           0.677289   \n",
       "2       0.001   {'alpha': 0.001}                3           0.677282   \n",
       "3        0.01    {'alpha': 0.01}                4           0.677217   \n",
       "4         0.1     {'alpha': 0.1}                5           0.676565   \n",
       "\n",
       "   split0_train_score  split1_test_score  split1_train_score  \\\n",
       "0            0.713129           0.671664            0.705793   \n",
       "1            0.713129           0.671663            0.705792   \n",
       "2            0.713121           0.671657            0.705784   \n",
       "3            0.713042           0.671590            0.705699   \n",
       "4            0.712253           0.670930            0.704853   \n",
       "\n",
       "   split2_test_score  split2_train_score  std_fit_time  std_score_time  \\\n",
       "0           0.662815            0.707911      0.132715        0.004786   \n",
       "1           0.662814            0.707910      0.066057        0.012229   \n",
       "2           0.662808            0.707901      0.094178        0.014638   \n",
       "3           0.662753            0.707815      0.141087        0.038510   \n",
       "4           0.662184            0.706952      0.041220        0.020338   \n",
       "\n",
       "   std_test_score  std_train_score  \n",
       "0        0.005958         0.003083  \n",
       "1        0.005958         0.003083  \n",
       "2        0.005958         0.003083  \n",
       "3        0.005953         0.003086  \n",
       "4        0.005917         0.003114  "
      ]
     },
     "execution_count": 25,
     "metadata": {},
     "output_type": "execute_result"
    }
   ],
   "source": [
    "model_tfidf = MultinomialNB()\n",
    "parameters = {'alpha':[0.00001,0.0001,0.001,0.01,0.1,1,10,100,1000,10000]}\n",
    "\n",
    "clf_idf = GridSearchCV(model_tfidf,parameters,cv = 3,n_jobs = -1,scoring = 'roc_auc')\n",
    "clf_idf.fit(X_tr_tfidf,Y_train)\n",
    "\n",
    "results = pd.DataFrame.from_dict(clf_idf.cv_results_)\n",
    "# print(results.head())\n",
    "results = results.sort_values(['param_alpha'])\n",
    "\n",
    "train_auc= results['mean_train_score']\n",
    "train_auc_std= results['std_train_score']\n",
    "cv_auc = results['mean_test_score'] \n",
    "cv_auc_std= results['std_test_score']\n",
    "log_alpha =  [math.log10(i) for i in results['param_alpha']]\n",
    "\n",
    "plt.plot(log_alpha, train_auc, label='Train AUC')\n",
    "# this code is copied from here: https://stackoverflow.com/a/48803361/4084039\n",
    "# plt.gca().fill_between(K, train_auc - train_auc_std,train_auc + train_auc_std,alpha=0.2,color='darkblue')\n",
    "\n",
    "plt.plot(log_alpha, cv_auc, label='CV AUC')\n",
    "# this code is copied from here: https://stackoverflow.com/a/48803361/4084039\n",
    "# plt.gca().fill_between(K, cv_auc - cv_auc_std,cv_auc + cv_auc_std,alpha=0.2,color='darkorange')\n",
    "\n",
    "plt.scatter(log_alpha, train_auc, label='Train AUC points')\n",
    "plt.scatter(log_alpha, cv_auc, label='CV AUC points')\n",
    "\n",
    "\n",
    "plt.legend()\n",
    "plt.xlabel(\"Log Alpha: hyperparameter\")\n",
    "plt.ylabel(\"AUC\")\n",
    "plt.title(\"Hyper parameter Vs AUC plot\")\n",
    "plt.grid()\n",
    "plt.show()\n",
    "\n",
    "results.head()"
   ]
  },
  {
   "cell_type": "code",
   "execution_count": 27,
   "metadata": {
    "collapsed": true
   },
   "outputs": [],
   "source": [
    "best_alpha = 10"
   ]
  },
  {
   "cell_type": "code",
   "execution_count": 28,
   "metadata": {
    "scrolled": true
   },
   "outputs": [
    {
     "data": {
      "image/png": "[encoded data removed]",
      "text/plain": [
       "<matplotlib.figure.Figure at 0x1e140515898>"
      ]
     },
     "metadata": {},
     "output_type": "display_data"
    }
   ],
   "source": [
    "# https://scikit-learn.org/stable/modules/generated/sklearn.metrics.roc_curve.html#sklearn.metrics.roc_curve\n",
    "from sklearn.metrics import roc_curve, auc\n",
    "\n",
    "best_model_tfidf = MultinomialNB(alpha = best_alpha)\n",
    "best_model_tfidf.fit(X_tr_tfidf,Y_train)\n",
    "# roc_auc_score(y_true, y_score) the 2nd parameter should be probability estimates of the positive class\n",
    "# not the predicted outputs\n",
    "\n",
    "y_train_pred_tfidf = batch_predict(best_model_tfidf, X_tr_tfidf)    \n",
    "y_test_pred_tfidf = batch_predict(best_model_tfidf, X_te_tfidf)\n",
    "\n",
    "train_fpr_tfidf, train_tpr_tfidf, tr_thresholds_tfidf = roc_curve(Y_train, y_train_pred_tfidf)\n",
    "test_fpr_tfidf, test_tpr_tfidf, te_thresholds_tfidf = roc_curve(Y_test, y_test_pred_tfidf)\n",
    "\n",
    "plt.plot(train_fpr_tfidf, train_tpr_tfidf, label=\"train AUC =\"+str(auc(train_fpr_tfidf, train_tpr_tfidf)))\n",
    "plt.plot(test_fpr_tfidf, test_tpr_tfidf, label=\"test AUC =\"+str(auc(test_fpr_tfidf, test_tpr_tfidf)))\n",
    "plt.legend()\n",
    "plt.xlabel(\"Alpha: hyperparameter\")\n",
    "plt.ylabel(\"AUC\")\n",
    "plt.title(\"ERROR PLOTS\")\n",
    "plt.grid()\n",
    "plt.show()"
   ]
  },
  {
   "cell_type": "markdown",
   "metadata": {
    "colab_type": "text",
    "id": "lS9hIHdib3dp"
   },
   "source": [
    "<h1>3. Summary</h1>\n",
    "\n",
    "<br> as mentioned in the step 5 of instructions"
   ]
  },
  {
   "cell_type": "markdown",
   "metadata": {},
   "source": [
    "### 3.1 Top 20 Features of Set 1"
   ]
  },
  {
   "cell_type": "code",
   "execution_count": 29,
   "metadata": {},
   "outputs": [
    {
     "name": "stdout",
     "output_type": "stream",
     "text": [
      "Printing top 20 Feature for Negative Class:\n",
      " ['dr' 'vt' 'wy' 'nd' 'chromebooks allow' 'the wobble' 'these stools'\n",
      " 'chairs help' 'the chromebooks' 'subscription' 'balance balls'\n",
      " 'chairs allow' 'graphing' 'these chromebooks' 'stools allow' 'de'\n",
      " 'core muscles' 'chromebooks students' 'reluctant readers'\n",
      " 'chromebooks would']\n",
      "\n",
      "Printing top 20 Feature for Positive Class:\n",
      " ['students' 'school' 'my' 'learning' 'classroom' 'the' 'not' 'they'\n",
      " 'my students' 'learn' 'help' 'many' 'nannan' 'we' 'need' 'reading' 'work'\n",
      " 'use' 'love' 'day']\n"
     ]
    }
   ],
   "source": [
    "neg_class_prob_sorted = abs(best_model_bow.feature_log_prob_[0, :]).argsort()[::-1]\n",
    "pos_class_prob_sorted = abs(best_model_bow.feature_log_prob_[1, :]).argsort()\n",
    "\n",
    "print('Printing top 20 Feature for Negative Class:\\n', np.take(X_feature, neg_class_prob_sorted[:20]))\n",
    "print()\n",
    "print('Printing top 20 Feature for Positive Class:\\n',np.take(X_feature, pos_class_prob_sorted[:20]))"
   ]
  },
  {
   "cell_type": "markdown",
   "metadata": {},
   "source": [
    "### 3.2 Tabular Format"
   ]
  },
  {
   "cell_type": "code",
   "execution_count": 30,
   "metadata": {},
   "outputs": [
    {
     "data": {
      "image/png": "[encoded data removed]",
      "text/plain": [
       "<matplotlib.figure.Figure at 0x1e0ae75f898>"
      ]
     },
     "metadata": {},
     "output_type": "display_data"
    }
   ],
   "source": [
    "# https://pythonmatplotlibtips.blogspot.com/2018/11/matplotlib-only-table.html\n",
    "\n",
    "fig = plt.figure()\n",
    "ax = fig.add_subplot(111)\n",
    "    \n",
    "col_labels = ['Model','Hyper-Para','AUC']\n",
    "row_labels = ['BOW','TfIDF']\n",
    "table_vals = [['Brute', 100, '0.6746'],['Brute', 10, 0.6461]] \n",
    "# Draw table\n",
    "the_table = plt.table(cellText=table_vals,\n",
    "                      colWidths=[0.1] * 3,\n",
    "                      rowLabels=row_labels,\n",
    "                      colLabels=col_labels,\n",
    "                      loc='center')\n",
    "the_table.auto_set_font_size(False)\n",
    "the_table.set_fontsize(24)\n",
    "the_table.scale(4, 4)\n",
    "\n",
    "# Removing ticks and spines enables you to get the figure only with table\n",
    "plt.tick_params(axis='x', which='both', bottom=False, top=False, labelbottom=False)\n",
    "plt.tick_params(axis='y', which='both', right=False, left=False, labelleft=False)\n",
    "for pos in ['right','top','bottom','left']:\n",
    "    plt.gca().spines[pos].set_visible(False)"
   ]
  }
 ],
 "metadata": {
  "colab": {
   "collapsed_sections": [],
   "name": "6_Assignment_NB_Instructions.ipynb",
   "provenance": [],
   "version": "0.3.2"
  },
  "kernelspec": {
   "display_name": "Python 3",
   "language": "python",
   "name": "python3"
  },
  "language_info": {
   "codemirror_mode": {
    "name": "ipython",
    "version": 3
   },
   "file_extension": ".py",
   "mimetype": "text/x-python",
   "name": "python",
   "nbconvert_exporter": "python",
   "pygments_lexer": "ipython3",
   "version": "3.6.3"
  }
 },
 "nbformat": 4,
 "nbformat_minor": 1
}
