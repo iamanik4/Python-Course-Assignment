{
 "cells": [
  {
   "cell_type": "markdown",
   "metadata": {
    "colab_type": "text",
    "id": "s0Ej_bXyQvnV"
   },
   "source": [
    "# Compute performance metrics for the given Y and Y_score without sklearn"
   ]
  },
  {
   "cell_type": "code",
   "execution_count": 1,
   "metadata": {
    "colab": {},
    "colab_type": "code",
    "id": "4CHb6NE7Qvnc"
   },
   "outputs": [],
   "source": [
    "import numpy as np\n",
    "import pandas as pd\n",
    "from tqdm import tqdm\n",
    "# other than these two you should not import any other packages"
   ]
  },
  {
   "cell_type": "markdown",
   "metadata": {
    "colab_type": "text",
    "id": "KbsWXuDaQvnq"
   },
   "source": [
    "<pre>\n",
    "<font color='red'><b>A.</b></font> Compute performance metrics for the given data <strong>5_a.csv</strong>\n",
    "   <b>Note 1:</b> in this data you can see number of positive points >> number of negatives points\n",
    "   <b>Note 2:</b> use pandas or numpy to read the data from <b>5_a.csv</b>\n",
    "   <b>Note 3:</b> you need to derive the class labels from given score</pre> $y^{pred}= \\text{[0 if y_score < 0.5 else 1]}$\n",
    "\n",
    "<pre>\n",
    "<ol>\n",
    "<li> Compute Confusion Matrix </li>\n",
    "<li> Compute F1 Score </li>\n",
    "<li> Compute AUC Score, you need to compute different thresholds and for each threshold compute tpr,fpr and then use               numpy.trapz(tpr_array, fpr_array) <a href='https://stackoverflow.com/q/53603376/4084039'>https://stackoverflow.com/q/53603376/4084039</a>, <a href='https://stackoverflow.com/a/39678975/4084039'>https://stackoverflow.com/a/39678975/4084039</a> Note: it should be numpy.trapz(tpr_array, fpr_array) not numpy.trapz(fpr_array, tpr_array)</li>\n",
    "<li> Compute Accuracy Score </li>\n",
    "</ol>\n",
    "</pre>"
   ]
  },
  {
   "cell_type": "code",
   "execution_count": 2,
   "metadata": {
    "colab": {},
    "colab_type": "code",
    "id": "WaFLW7oBQvnt"
   },
   "outputs": [
    {
     "name": "stdout",
     "output_type": "stream",
     "text": [
      "TP: 10000; TN:0; FP:100; FN:0\n",
      "Precision : 0.9900990099009901 Recall:1.0\n",
      "F1 Score:  0.9950248756218906\n",
      "Accuracy:  0.9900990099009901\n"
     ]
    }
   ],
   "source": [
    "# write your code here\n",
    "data = pd.read_csv('5_a.csv')\n",
    "# print(data.shape)\n",
    "data['output'] = np.where(data['proba']<0.5, 0, 1)\n",
    "# print(data.head())\n",
    "# data.head(10000)\n",
    "TP = len(data[(data['output']==1) & (data['y']==1)])\n",
    "TN = len(data[(data['output']==0) & (data['y']==0)])\n",
    "FP = len(data[(data['output']==1) & (data['y']==0)])\n",
    "FN = len(data[(data['output']==0) & (data['y']==1)])\n",
    "# print(TP)\n",
    "print('TP: {}; TN:{}; FP:{}; FN:{}'.format(TP,TN,FP,FN))\n",
    "\n",
    "precision = TP/(TP + FP)\n",
    "recall = TP/(TP + FN)\n",
    "print(\"Precision : {} Recall:{}\".format(precision,recall))\n",
    "\n",
    "f1_score = 2*precision*recall/(precision + recall)\n",
    "print(\"F1 Score: \",f1_score)\n",
    "\n",
    "accuracy = (TP+TN)/(TP+TN+FP+FN)\n",
    "print(\"Accuracy: \",accuracy)"
   ]
  },
  {
   "cell_type": "code",
   "execution_count": 3,
   "metadata": {},
   "outputs": [
    {
     "name": "stderr",
     "output_type": "stream",
     "text": [
      "100%|██████████| 10100/10100 [01:21<00:00, 123.51it/s]\n"
     ]
    }
   ],
   "source": [
    "# Computing AUC Score\n",
    "n = 10\n",
    "Size = data.shape[0]\n",
    "Threshold_values = set(data['proba'].tolist())\n",
    "Threshold_values = sorted(Threshold_values)\n",
    "\n",
    "tpr = []\n",
    "fpr = []\n",
    "\n",
    "for thres in tqdm(Threshold_values):\n",
    "    TP = len(data[(np.where(data['proba']<thres, 0, 1)==1) & (data['y']==1)])\n",
    "    TN = len(data[(np.where(data['proba']<thres, 0, 1)==0) & (data['y']==0)])\n",
    "    FP = len(data[(np.where(data['proba']<thres, 0, 1)==1) & (data['y']==0)])\n",
    "    FN = len(data[(np.where(data['proba']<thres, 0, 1)==0) & (data['y']==1)])\n",
    "\n",
    "    tpr.append(TP/(TP + FN))\n",
    "    fpr.append(FP/(FP + TN))"
   ]
  },
  {
   "cell_type": "code",
   "execution_count": 4,
   "metadata": {},
   "outputs": [
    {
     "name": "stdout",
     "output_type": "stream",
     "text": [
      "0.48829900000000004\n"
     ]
    }
   ],
   "source": [
    "from sklearn import metrics\n",
    "print(metrics.auc(fpr, tpr))"
   ]
  },
  {
   "cell_type": "code",
   "execution_count": 5,
   "metadata": {},
   "outputs": [
    {
     "name": "stdout",
     "output_type": "stream",
     "text": [
      "AUC Score:  0.48829900000000004\n"
     ]
    }
   ],
   "source": [
    "tpr.sort()\n",
    "fpr.sort()\n",
    "print('AUC Score: ',np.trapz(tpr,fpr))"
   ]
  },
  {
   "cell_type": "code",
   "execution_count": 16,
   "metadata": {},
   "outputs": [
    {
     "data": {
      "image/png": "[encoded data removed]",
      "text/plain": [
       "<Figure size 432x288 with 1 Axes>"
      ]
     },
     "metadata": {
      "needs_background": "light"
     },
     "output_type": "display_data"
    }
   ],
   "source": [
    "import matplotlib.pyplot as plt\n",
    "\n",
    "# Plotting TPR and FPR\n",
    "plt.plot(tpr,fpr)\n",
    "plt.title('TPR VS FPR')\n",
    "plt.show()"
   ]
  },
  {
   "cell_type": "markdown",
   "metadata": {
    "colab_type": "text",
    "id": "V5KZem1BQvn2"
   },
   "source": [
    "<pre>\n",
    "<font color='red'><b>B.</b></font> Compute performance metrics for the given data <strong>5_b.csv</strong>\n",
    "   <b>Note 1:</b> in this data you can see number of positive points << number of negatives points\n",
    "   <b>Note 2:</b> use pandas or numpy to read the data from <b>5_b.csv</b>\n",
    "   <b>Note 3:</b> you need to derive the class labels from given score</pre> $y^{pred}= \\text{[0 if y_score < 0.5 else 1]}$\n",
    "\n",
    "<pre>\n",
    "<ol>\n",
    "<li> Compute Confusion Matrix </li>\n",
    "<li> Compute F1 Score </li>\n",
    "<li> Compute AUC Score, you need to compute different thresholds and for each threshold compute tpr,fpr and then use               numpy.trapz(tpr_array, fpr_array) <a href='https://stackoverflow.com/q/53603376/4084039'>https://stackoverflow.com/q/53603376/4084039</a>, <a href='https://stackoverflow.com/a/39678975/4084039'>https://stackoverflow.com/a/39678975/4084039</a></li>\n",
    "<li> Compute Accuracy Score </li>\n",
    "</ol>\n",
    "</pre>"
   ]
  },
  {
   "cell_type": "code",
   "execution_count": 8,
   "metadata": {
    "colab": {},
    "colab_type": "code",
    "id": "U2sKlq0YQvn5"
   },
   "outputs": [
    {
     "name": "stdout",
     "output_type": "stream",
     "text": [
      "TP: 55; TN:9761; FP:239; FN:45\n",
      "Precision : 0.1870748299319728 Recall:0.55\n",
      "F1 Score:  0.2791878172588833\n",
      "Accuracy:  0.9718811881188119\n"
     ]
    }
   ],
   "source": [
    "# write your code\n",
    "data = pd.read_csv('5_b.csv')\n",
    "data['output'] = np.where(data['proba']<0.5, 0, 1)\n",
    "\n",
    "TP = len(data[(data['output']==1) & (data['y']==1)])\n",
    "TN = len(data[(data['output']==0) & (data['y']==0)])\n",
    "FP = len(data[(data['output']==1) & (data['y']==0)])\n",
    "FN = len(data[(data['output']==0) & (data['y']==1)])\n",
    "\n",
    "print('TP: {}; TN:{}; FP:{}; FN:{}'.format(TP,TN,FP,FN))\n",
    "\n",
    "precision = TP/(TP + FP)\n",
    "recall = TP/(TP + FN)\n",
    "print(\"Precision : {} Recall:{}\".format(precision,recall))\n",
    "\n",
    "f1_score = 2*precision*recall/(precision + recall)\n",
    "print(\"F1 Score: \",f1_score)\n",
    "\n",
    "accuracy = (TP+TN)/(TP+TN+FP+FN)\n",
    "print(\"Accuracy: \",accuracy)"
   ]
  },
  {
   "cell_type": "code",
   "execution_count": 9,
   "metadata": {},
   "outputs": [
    {
     "name": "stderr",
     "output_type": "stream",
     "text": [
      "100%|██████████| 10100/10100 [01:30<00:00, 111.24it/s]\n"
     ]
    }
   ],
   "source": [
    "n = 10\n",
    "Size = data.shape[0]\n",
    "Threshold_values = set(data['proba'].tolist())\n",
    "Threshold_values = sorted(Threshold_values)\n",
    "\n",
    "\n",
    "tpr = []\n",
    "fpr = []\n",
    "\n",
    "for thres in tqdm(Threshold_values):\n",
    "    TP = len(data[(np.where(data['proba']<thres, 0, 1)==1) & (data['y']==1)])\n",
    "    TN = len(data[(np.where(data['proba']<thres, 0, 1)==0) & (data['y']==0)])\n",
    "    FP = len(data[(np.where(data['proba']<thres, 0, 1)==1) & (data['y']==0)])\n",
    "    FN = len(data[(np.where(data['proba']<thres, 0, 1)==0) & (data['y']==1)])\n",
    "    \n",
    "    tpr.append(TP/(TP + FN))\n",
    "    fpr.append(FP/(FP + TN))"
   ]
  },
  {
   "cell_type": "code",
   "execution_count": 11,
   "metadata": {},
   "outputs": [
    {
     "name": "stdout",
     "output_type": "stream",
     "text": [
      "0.937757\n"
     ]
    }
   ],
   "source": [
    "from sklearn import metrics\n",
    "print(metrics.auc(fpr, tpr))"
   ]
  },
  {
   "cell_type": "code",
   "execution_count": 23,
   "metadata": {},
   "outputs": [
    {
     "name": "stdout",
     "output_type": "stream",
     "text": [
      "0.9377570000000001\n"
     ]
    }
   ],
   "source": [
    "tpr.sort()\n",
    "fpr.sort()\n",
    "print(np.trapz(tpr,fpr))"
   ]
  },
  {
   "cell_type": "code",
   "execution_count": 24,
   "metadata": {},
   "outputs": [
    {
     "data": {
      "image/png": "[encoded data removed]",
      "text/plain": [
       "<Figure size 432x288 with 1 Axes>"
      ]
     },
     "metadata": {
      "needs_background": "light"
     },
     "output_type": "display_data"
    }
   ],
   "source": [
    "import matplotlib.pyplot as plt\n",
    "\n",
    "# Plotting TPR and FPR\n",
    "plt.plot(tpr,fpr)\n",
    "plt.title('TPR VS FPR')\n",
    "plt.show()"
   ]
  },
  {
   "cell_type": "markdown",
   "metadata": {
    "colab_type": "text",
    "id": "GiPGonTzQvoB"
   },
   "source": [
    "<font color='red'><b>C.</b></font> Compute the best threshold (similarly to ROC curve computation) of probability which gives lowest values of metric <b>A</b> for the given data <strong>5_c.csv</strong>\n",
    "<br>\n",
    "\n",
    "you will be predicting label of a data points like this: $y^{pred}= \\text{[0 if y_score < threshold  else 1]}$\n",
    "\n",
    "$ A = 500 \\times \\text{number of false negative} + 100 \\times \\text{numebr of false positive}$\n",
    "\n",
    "<pre>\n",
    "   <b>Note 1:</b> in this data you can see number of negative points > number of positive points\n",
    "   <b>Note 2:</b> use pandas or numpy to read the data from <b>5_c.csv</b>\n",
    "</pre>"
   ]
  },
  {
   "cell_type": "code",
   "execution_count": 22,
   "metadata": {},
   "outputs": [
    {
     "data": {
      "text/plain": [
       "(2852, 2)"
      ]
     },
     "execution_count": 22,
     "metadata": {},
     "output_type": "execute_result"
    }
   ],
   "source": [
    "# write your code\n",
    "data = pd.read_csv('5_c.csv')\n",
    "data.shape"
   ]
  },
  {
   "cell_type": "code",
   "execution_count": 23,
   "metadata": {
    "colab": {},
    "colab_type": "code",
    "id": "x5HIJzq1QvoE"
   },
   "outputs": [
    {
     "name": "stderr",
     "output_type": "stream",
     "text": [
      "100%|██████████| 2791/2791 [00:10<00:00, 260.80it/s]\n"
     ]
    }
   ],
   "source": [
    "n = 10\n",
    "\n",
    "Threshold_values = set(data['prob'].tolist())\n",
    "Threshold_values = sorted(Threshold_values)\n",
    "\n",
    "FP = []\n",
    "FN = []\n",
    "\n",
    "for thres in tqdm(Threshold_values):\n",
    "    FP.append(len(data[(np.where(data['prob']<thres, 0, 1)==1) & (data['y']==0)]))\n",
    "    FN.append(len(data[(np.where(data['prob']<thres, 0, 1)==0) & (data['y']==1)]))"
   ]
  },
  {
   "cell_type": "code",
   "execution_count": 24,
   "metadata": {},
   "outputs": [
    {
     "name": "stderr",
     "output_type": "stream",
     "text": [
      "100%|██████████| 2791/2791 [00:00<00:00, 7778.69it/s] \n"
     ]
    },
    {
     "name": "stdout",
     "output_type": "stream",
     "text": [
      "ROC: 141000 for Thres:0.2300390278970873\n"
     ]
    }
   ],
   "source": [
    "for thres in tqdm(Threshold_values):\n",
    "    new_roc = 500*FN[Threshold_values.index(thres)] + 100*FP[Threshold_values.index(thres)]\n",
    "\n",
    "    if Threshold_values.index(thres) == 0:\n",
    "        roc = new_roc \n",
    "    elif new_roc < roc:\n",
    "        roc = new_roc\n",
    "        best_thres = thres\n",
    "print('ROC: {} for Thres:{}'.format(roc,best_thres))"
   ]
  },
  {
   "cell_type": "markdown",
   "metadata": {
    "colab_type": "text",
    "id": "sD4CcgjXQvoL"
   },
   "source": [
    "<pre>\n",
    "<font color='red'><b>D.</b></font> Compute performance metrics(for regression) for the given data <strong>5_d.csv</strong>\n",
    "    <b>Note 2:</b> use pandas or numpy to read the data from <b>5_d.csv</b>\n",
    "    <b>Note 1:</b> <b>5_d.csv</b> will having two columns Y and predicted_Y both are real valued features\n",
    "<ol>\n",
    "<li> Compute Mean Square Error </li>\n",
    "<li> Compute MAPE: https://www.youtube.com/watch?v=ly6ztgIkUxk</li>\n",
    "<li> Compute R^2 error: https://en.wikipedia.org/wiki/Coefficient_of_determination#Definitions </li>\n",
    "</ol>\n",
    "</pre>"
   ]
  },
  {
   "cell_type": "code",
   "execution_count": 26,
   "metadata": {},
   "outputs": [],
   "source": [
    "from math import pow\n",
    "from tqdm import tqdm"
   ]
  },
  {
   "cell_type": "code",
   "execution_count": 27,
   "metadata": {},
   "outputs": [
    {
     "name": "stderr",
     "output_type": "stream",
     "text": [
      "100%|██████████| 157200/157200 [01:09<00:00, 2268.55it/s]\n"
     ]
    },
    {
     "name": "stdout",
     "output_type": "stream",
     "text": [
      "SS_res: 27850448.0 SS_tot:638161080.035662\n",
      "MSE: 177.16569974554707 :  MAPE:12.912029940108486 : RR_2:0.9563582786990964\n"
     ]
    }
   ],
   "source": [
    "data = pd.read_csv('5_d.csv')\n",
    "N = len(data)\n",
    "mse = 0\n",
    "mape = 0\n",
    "SS_res = 0\n",
    "SS_tot = 0\n",
    "y_mean = np.mean(data['y'])\n",
    "# print(y_mean)\n",
    "# len(data)\n",
    "data.head()\n",
    "# print(data.shape)\n",
    "for i in tqdm(range(0,N)):\n",
    "#     print(data.iloc[i,0])\n",
    "#     print(data.iloc[i,1])\n",
    "#     print(i)\n",
    "    SS_res += pow((data.iloc[i,0]-data.iloc[i,1]), 2)\n",
    "    SS_tot += pow((data.iloc[i,0]-y_mean), 2)\n",
    "    mape += abs(data.iloc[i,0]-data.iloc[i,1])*100/(N*np.mean(data['y']))\n",
    "\n",
    "RR_2 = 1- SS_res/SS_tot\n",
    "mse = SS_res/N\n",
    "print('SS_res: {} SS_tot:{}'.format(SS_res,SS_tot))\n",
    "print('MSE: {} :  MAPE:{} : RR_2:{}'.format(mse,mape,RR_2))"
   ]
  }
 ],
 "metadata": {
  "colab": {
   "collapsed_sections": [],
   "name": "5_Performance_metrics_Instructions.ipynb",
   "provenance": [],
   "version": "0.3.2"
  },
  "kernelspec": {
   "display_name": "Python 3",
   "language": "python",
   "name": "python3"
  },
  "language_info": {
   "codemirror_mode": {
    "name": "ipython",
    "version": 3
   },
   "file_extension": ".py",
   "mimetype": "text/x-python",
   "name": "python",
   "nbconvert_exporter": "python",
   "pygments_lexer": "ipython3",
   "version": "3.7.3"
  }
 },
 "nbformat": 4,
 "nbformat_minor": 1
}
