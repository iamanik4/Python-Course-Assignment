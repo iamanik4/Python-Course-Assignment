{
 "cells": [
  {
   "cell_type": "markdown",
   "metadata": {
    "colab_type": "text",
    "id": "s0Ej_bXyQvnV"
   },
   "source": [
    "# Compute performance metrics for the given Y and Y_score without sklearn"
   ]
  },
  {
   "cell_type": "code",
   "execution_count": 4,
   "metadata": {
    "colab": {},
    "colab_type": "code",
    "id": "4CHb6NE7Qvnc"
   },
   "outputs": [],
   "source": [
    "import numpy as np\n",
    "import pandas as pd\n",
    "# other than these two you should not import any other packages"
   ]
  },
  {
   "cell_type": "markdown",
   "metadata": {
    "colab_type": "text",
    "id": "KbsWXuDaQvnq"
   },
   "source": [
    "<pre>\n",
    "<font color='red'><b>A.</b></font> Compute performance metrics for the given data <strong>5_a.csv</strong>\n",
    "   <b>Note 1:</b> in this data you can see number of positive points >> number of negatives points\n",
    "   <b>Note 2:</b> use pandas or numpy to read the data from <b>5_a.csv</b>\n",
    "   <b>Note 3:</b> you need to derive the class labels from given score</pre> $y^{pred}= \\text{[0 if y_score < 0.5 else 1]}$\n",
    "\n",
    "<pre>\n",
    "<ol>\n",
    "<li> Compute Confusion Matrix </li>\n",
    "<li> Compute F1 Score </li>\n",
    "<li> Compute AUC Score, you need to compute different thresholds and for each threshold compute tpr,fpr and then use               numpy.trapz(tpr_array, fpr_array) <a href='https://stackoverflow.com/q/53603376/4084039'>https://stackoverflow.com/q/53603376/4084039</a>, <a href='https://stackoverflow.com/a/39678975/4084039'>https://stackoverflow.com/a/39678975/4084039</a> Note: it should be numpy.trapz(tpr_array, fpr_array) not numpy.trapz(fpr_array, tpr_array)</li>\n",
    "<li> Compute Accuracy Score </li>\n",
    "</ol>\n",
    "</pre>"
   ]
  },
  {
   "cell_type": "code",
   "execution_count": 2,
   "metadata": {
    "colab": {},
    "colab_type": "code",
    "id": "WaFLW7oBQvnt"
   },
   "outputs": [
    {
     "name": "stdout",
     "output_type": "stream",
     "text": [
      "(10100, 2)\n",
      "     y     proba  output\n",
      "0  1.0  0.637387       1\n",
      "1  1.0  0.635165       1\n",
      "2  1.0  0.766586       1\n",
      "3  1.0  0.724564       1\n",
      "4  1.0  0.889199       1\n",
      "10000: 0 :100 : 0\n",
      "Precision : 0.9900990099009901 Recall:1.0\n",
      "F1 Score:  0.9950248756218906\n",
      "Accuracy:  0.9900990099009901\n"
     ]
    }
   ],
   "source": [
    "# write your code here\n",
    "data = pd.read_csv('5_a.csv')\n",
    "print(data.shape)\n",
    "data['output'] = np.where(data['proba']<0.5, 0, 1)\n",
    "print(data.head())\n",
    "# data.head(10000)\n",
    "TP = len(data[(data['output']==1) & (data['y']==1)])\n",
    "TN = len(data[(data['output']==0) & (data['y']==0)])\n",
    "FP = len(data[(data['output']==1) & (data['y']==0)])\n",
    "FN = len(data[(data['output']==0) & (data['y']==1)])\n",
    "# print(TP)\n",
    "print('TP: {}; TN:{}; FP:{}; FN:{}'.format(TP,TN,FP,FN))\n",
    "\n",
    "precision = TP/(TP + FP)\n",
    "recall = TP/(TP + FN)\n",
    "print(\"Precision : {} Recall:{}\".format(precision,recall))\n",
    "\n",
    "f1_score = 2*precision*recall/(precision + recall)\n",
    "print(\"F1 Score: \",f1_score)\n",
    "\n",
    "accuracy = (TP+TN)/(TP+TN+FP+FN)\n",
    "print(\"Accuracy: \",accuracy)"
   ]
  },
  {
   "cell_type": "code",
   "execution_count": 8,
   "metadata": {},
   "outputs": [],
   "source": [
    "import random\n",
    "# Generate n random value between a and b\n",
    "def get_n_unique_random_value(a,b,n):\n",
    "    return random.sample(range(a,b),n)"
   ]
  },
  {
   "cell_type": "code",
   "execution_count": 4,
   "metadata": {},
   "outputs": [
    {
     "name": "stdout",
     "output_type": "stream",
     "text": [
      "[0.7283, 0.6381, 0.4133, 0.2946, 0.2573, 0.247, 0.2364, 0.161, 0.0308, 0.0067]\n",
      "[0.75, 0.64, 0.44, 0.29, 0.27, 0.25, 0.25, 0.18, 0.03, 0.0]\n"
     ]
    }
   ],
   "source": [
    "n = 10\n",
    "Size = data.shape[0]\n",
    "Threshold_index = get_n_unique_random_value(0,Size,n)\n",
    "Threshold_values = [data.iloc[i]['proba'] for i in Threshold_index]\n",
    "Threshold_values.sort()\n",
    "# print(Threshold_values)\n",
    "\n",
    "for thres in Threshold_values:\n",
    "    data['output'+str(Threshold_values.index(thres))] = np.where(data['proba']<thres, 0, 1)\n",
    "# print(data.head)\n",
    "\n",
    "tpr = []\n",
    "fpr = []\n",
    "\n",
    "for thres in Threshold_values:\n",
    "    TP = len(data[(data['output'+str(Threshold_values.index(thres))]==1) & (data['y']==1)])\n",
    "    TN = len(data[(data['output'+str(Threshold_values.index(thres))]==0) & (data['y']==0)])\n",
    "    FP = len(data[(data['output'+str(Threshold_values.index(thres))]==1) & (data['y']==0)])\n",
    "    FN = len(data[(data['output'+str(Threshold_values.index(thres))]==0) & (data['y']==1)])\n",
    "#     print(\"TP:\",true_positive)\n",
    "#     print(\"TN:\",true_negative)\n",
    "#     print(\"FP:\",false_positive)\n",
    "#     print(\"FN:\",false_negative)\n",
    "    tpr.append(TP/(TP + FN))\n",
    "    fpr.append(FP/(FP + TN))\n",
    "print(tpr)\n",
    "print(fpr)"
   ]
  },
  {
   "cell_type": "code",
   "execution_count": 18,
   "metadata": {},
   "outputs": [
    {
     "data": {
      "image/png": "[encoded data removed]",
      "text/plain": [
       "<Figure size 432x288 with 1 Axes>"
      ]
     },
     "metadata": {
      "needs_background": "light"
     },
     "output_type": "display_data"
    },
    {
     "name": "stdout",
     "output_type": "stream",
     "text": [
      "0.272803\n"
     ]
    }
   ],
   "source": [
    "import matplotlib.pyplot as plt\n",
    "\n",
    "# plt.plot(neighbors,trainscores, label='TPR')\n",
    "plt.plot(fpr,tpr)\n",
    "plt.title('TPR VS FPR')\n",
    "# plt.legend()\n",
    "plt.show()"
   ]
  },
  {
   "cell_type": "code",
   "execution_count": 20,
   "metadata": {},
   "outputs": [
    {
     "name": "stdout",
     "output_type": "stream",
     "text": [
      "0.272803\n"
     ]
    }
   ],
   "source": [
    "tpr.sort()\n",
    "fpr.sort()\n",
    "print(np.trapz(tpr,fpr))"
   ]
  },
  {
   "cell_type": "markdown",
   "metadata": {
    "colab_type": "text",
    "id": "V5KZem1BQvn2"
   },
   "source": [
    "<pre>\n",
    "<font color='red'><b>B.</b></font> Compute performance metrics for the given data <strong>5_b.csv</strong>\n",
    "   <b>Note 1:</b> in this data you can see number of positive points << number of negatives points\n",
    "   <b>Note 2:</b> use pandas or numpy to read the data from <b>5_b.csv</b>\n",
    "   <b>Note 3:</b> you need to derive the class labels from given score</pre> $y^{pred}= \\text{[0 if y_score < 0.5 else 1]}$\n",
    "\n",
    "<pre>\n",
    "<ol>\n",
    "<li> Compute Confusion Matrix </li>\n",
    "<li> Compute F1 Score </li>\n",
    "<li> Compute AUC Score, you need to compute different thresholds and for each threshold compute tpr,fpr and then use               numpy.trapz(tpr_array, fpr_array) <a href='https://stackoverflow.com/q/53603376/4084039'>https://stackoverflow.com/q/53603376/4084039</a>, <a href='https://stackoverflow.com/a/39678975/4084039'>https://stackoverflow.com/a/39678975/4084039</a></li>\n",
    "<li> Compute Accuracy Score </li>\n",
    "</ol>\n",
    "</pre>"
   ]
  },
  {
   "cell_type": "code",
   "execution_count": 23,
   "metadata": {
    "colab": {},
    "colab_type": "code",
    "id": "U2sKlq0YQvn5"
   },
   "outputs": [
    {
     "name": "stdout",
     "output_type": "stream",
     "text": [
      "(10100, 2)\n",
      "     y     proba  output\n",
      "0  0.0  0.281035       0\n",
      "1  0.0  0.465152       0\n",
      "2  0.0  0.352793       0\n",
      "3  0.0  0.157818       0\n",
      "4  0.0  0.276648       0\n",
      "TP: 55; TN:9761; FP:239; FN:45\n",
      "Precision : 0.1870748299319728 Recall:0.55\n",
      "F1 Score:  0.2791878172588833\n",
      "Accuracy:  0.9718811881188119\n"
     ]
    }
   ],
   "source": [
    "# write your code\n",
    "data = pd.read_csv('5_b.csv')\n",
    "print(data.shape)\n",
    "data['output'] = np.where(data['proba']<0.5, 0, 1)\n",
    "print(data.head())\n",
    "# data.head(10000)\n",
    "TP = len(data[(data['output']==1) & (data['y']==1)])\n",
    "TN = len(data[(data['output']==0) & (data['y']==0)])\n",
    "FP = len(data[(data['output']==1) & (data['y']==0)])\n",
    "FN = len(data[(data['output']==0) & (data['y']==1)])\n",
    "# print(TP)\n",
    "print('TP: {}; TN:{}; FP:{}; FN:{}'.format(TP,TN,FP,FN))\n",
    "\n",
    "precision = TP/(TP + FP)\n",
    "recall = TP/(TP + FN)\n",
    "print(\"Precision : {} Recall:{}\".format(precision,recall))\n",
    "\n",
    "f1_score = 2*precision*recall/(precision + recall)\n",
    "print(\"F1 Score: \",f1_score)\n",
    "\n",
    "accuracy = (TP+TN)/(TP+TN+FP+FN)\n",
    "print(\"Accuracy: \",accuracy)"
   ]
  },
  {
   "cell_type": "code",
   "execution_count": 39,
   "metadata": {},
   "outputs": [
    {
     "name": "stdout",
     "output_type": "stream",
     "text": [
      "[0.15907694610510129, 0.20544830870351813, 0.21543849755730554, 0.2835889883568202, 0.300195278702444, 0.3096057715181111, 0.34436322740273906, 0.3954191598075785, 0.45012154717802705, 0.5026531715044368]\n",
      "[1.0, 1.0, 1.0, 1.0, 1.0, 1.0, 1.0, 1.0, 0.79, 0.55]\n",
      "[0.8532, 0.7363, 0.7113, 0.5429, 0.5028, 0.4812, 0.4027, 0.2788, 0.1454, 0.0178]\n"
     ]
    }
   ],
   "source": [
    "n = 10\n",
    "Size = data.shape[0]\n",
    "Threshold_index = get_n_unique_random_value(0,Size,n)\n",
    "Threshold_values = [data.iloc[i]['proba'] for i in Threshold_index]\n",
    "Threshold_values.sort()\n",
    "print(Threshold_values)\n",
    "\n",
    "for thres in Threshold_values:\n",
    "    data['output'+str(Threshold_values.index(thres))] = np.where(data['proba']<thres, 0, 1)\n",
    "# print(data.head)\n",
    "\n",
    "tpr = []\n",
    "fpr = []\n",
    "\n",
    "for thres in Threshold_values:\n",
    "    TP = len(data[(data['output'+str(Threshold_values.index(thres))]==1) & (data['y']==1)])\n",
    "    TN = len(data[(data['output'+str(Threshold_values.index(thres))]==0) & (data['y']==0)])\n",
    "    FP = len(data[(data['output'+str(Threshold_values.index(thres))]==1) & (data['y']==0)])\n",
    "    FN = len(data[(data['output'+str(Threshold_values.index(thres))]==0) & (data['y']==1)])\n",
    "#     print(\"TP:\",true_positive)\n",
    "#     print(\"TN:\",true_negative)\n",
    "#     print(\"FP:\",false_positive)\n",
    "#     print(\"FN:\",false_negative)\n",
    "    tpr.append(TP/(TP + FN))\n",
    "    fpr.append(FP/(FP + TN))\n",
    "print(tpr)\n",
    "print(fpr)"
   ]
  },
  {
   "cell_type": "code",
   "execution_count": 32,
   "metadata": {},
   "outputs": [
    {
     "data": {
      "image/png": "[encoded data removed]",
      "text/plain": [
       "<Figure size 432x288 with 1 Axes>"
      ]
     },
     "metadata": {
      "needs_background": "light"
     },
     "output_type": "display_data"
    }
   ],
   "source": [
    "import matplotlib.pyplot as plt\n",
    "\n",
    "# plt.plot(neighbors,trainscores, label='TPR')\n",
    "plt.plot(fpr,tpr)\n",
    "plt.title('TPR VS FPR')\n",
    "# plt.legend()\n",
    "plt.show()"
   ]
  },
  {
   "cell_type": "code",
   "execution_count": 38,
   "metadata": {},
   "outputs": [
    {
     "name": "stdout",
     "output_type": "stream",
     "text": [
      "0.8195835\n"
     ]
    }
   ],
   "source": [
    "tpr.sort()\n",
    "fpr.sort()\n",
    "print(np.trapz(tpr,fpr))"
   ]
  },
  {
   "cell_type": "markdown",
   "metadata": {
    "colab_type": "text",
    "id": "GiPGonTzQvoB"
   },
   "source": [
    "<font color='red'><b>C.</b></font> Compute the best threshold (similarly to ROC curve computation) of probability which gives lowest values of metric <b>A</b> for the given data <strong>5_c.csv</strong>\n",
    "<br>\n",
    "\n",
    "you will be predicting label of a data points like this: $y^{pred}= \\text{[0 if y_score < threshold  else 1]}$\n",
    "\n",
    "$ A = 500 \\times \\text{number of false negative} + 100 \\times \\text{numebr of false positive}$\n",
    "\n",
    "<pre>\n",
    "   <b>Note 1:</b> in this data you can see number of negative points > number of positive points\n",
    "   <b>Note 2:</b> use pandas or numpy to read the data from <b>5_c.csv</b>\n",
    "</pre>"
   ]
  },
  {
   "cell_type": "code",
   "execution_count": 6,
   "metadata": {},
   "outputs": [
    {
     "data": {
      "text/html": [
       "<div>\n",
       "<style scoped>\n",
       "    .dataframe tbody tr th:only-of-type {\n",
       "        vertical-align: middle;\n",
       "    }\n",
       "\n",
       "    .dataframe tbody tr th {\n",
       "        vertical-align: top;\n",
       "    }\n",
       "\n",
       "    .dataframe thead th {\n",
       "        text-align: right;\n",
       "    }\n",
       "</style>\n",
       "<table border=\"1\" class=\"dataframe\">\n",
       "  <thead>\n",
       "    <tr style=\"text-align: right;\">\n",
       "      <th></th>\n",
       "      <th>y</th>\n",
       "      <th>prob</th>\n",
       "    </tr>\n",
       "  </thead>\n",
       "  <tbody>\n",
       "    <tr>\n",
       "      <th>0</th>\n",
       "      <td>0</td>\n",
       "      <td>0.458521</td>\n",
       "    </tr>\n",
       "    <tr>\n",
       "      <th>1</th>\n",
       "      <td>0</td>\n",
       "      <td>0.505037</td>\n",
       "    </tr>\n",
       "    <tr>\n",
       "      <th>2</th>\n",
       "      <td>0</td>\n",
       "      <td>0.418652</td>\n",
       "    </tr>\n",
       "    <tr>\n",
       "      <th>3</th>\n",
       "      <td>0</td>\n",
       "      <td>0.412057</td>\n",
       "    </tr>\n",
       "    <tr>\n",
       "      <th>4</th>\n",
       "      <td>0</td>\n",
       "      <td>0.375579</td>\n",
       "    </tr>\n",
       "  </tbody>\n",
       "</table>\n",
       "</div>"
      ],
      "text/plain": [
       "   y      prob\n",
       "0  0  0.458521\n",
       "1  0  0.505037\n",
       "2  0  0.418652\n",
       "3  0  0.412057\n",
       "4  0  0.375579"
      ]
     },
     "execution_count": 6,
     "metadata": {},
     "output_type": "execute_result"
    }
   ],
   "source": [
    "# write your code\n",
    "data = pd.read_csv('5_c.csv')\n",
    "data.head()"
   ]
  },
  {
   "cell_type": "code",
   "execution_count": 9,
   "metadata": {
    "colab": {},
    "colab_type": "code",
    "id": "x5HIJzq1QvoE"
   },
   "outputs": [
    {
     "name": "stdout",
     "output_type": "stream",
     "text": [
      "[0.12455980358897036, 0.16171157803084402, 0.17571705096476786, 0.17955941042384582, 0.2377404143681397, 0.25478729102257136, 0.3462788970083803, 0.3876721927443065, 0.44782194978482015, 0.6716328037751688]\n",
      "[1541, 1367, 1284, 1260, 984, 909, 563, 437, 259, 19]\n",
      "[14, 33, 42, 48, 90, 103, 221, 278, 373, 790]\n"
     ]
    }
   ],
   "source": [
    "n = 10\n",
    "Size = data.shape[0]\n",
    "Threshold_index = get_n_unique_random_value(0,Size,n)\n",
    "Threshold_values = [data.iloc[i]['prob'] for i in Threshold_index]\n",
    "Threshold_values.sort()\n",
    "print(Threshold_values)\n",
    "\n",
    "for thres in Threshold_values:\n",
    "    data['output'+str(Threshold_values.index(thres))] = np.where(data['prob']<thres, 0, 1)\n",
    "# print(data.head)\n",
    "\n",
    "FP = []\n",
    "FN = []\n",
    "\n",
    "for thres in Threshold_values:\n",
    "#     TP = len(data[(data['output'+str(Threshold_values.index(thres))]==1) & (data['y']==1)])\n",
    "#     TN = len(data[(data['output'+str(Threshold_values.index(thres))]==0) & (data['y']==0)])\n",
    "    FP.append(len(data[(data['output'+str(Threshold_values.index(thres))]==1) & (data['y']==0)]))\n",
    "    FN.append(len(data[(data['output'+str(Threshold_values.index(thres))]==0) & (data['y']==1)]))\n",
    "#     print(\"TP:\",true_positive)\n",
    "#     print(\"TN:\",true_negative)\n",
    "#     print(\"FP:\",false_positive)\n",
    "#     print(\"FN:\",false_negative)\n",
    "#     tpr.append(TP/(TP + FN))\n",
    "#     fpr.append(FP/(FP + TN))\n",
    "print(FP)\n",
    "print(FN)"
   ]
  },
  {
   "cell_type": "code",
   "execution_count": 17,
   "metadata": {},
   "outputs": [
    {
     "name": "stdout",
     "output_type": "stream",
     "text": [
      "ROC: 142400 Thres:0.25478729102257136\n"
     ]
    }
   ],
   "source": [
    "roc = 99999999\n",
    "for thres in Threshold_values:\n",
    "#     print(Threshold_values.index(thres))\n",
    "    new_roc = 500*FN[Threshold_values.index(thres)] + 100*FP[Threshold_values.index(thres)]\n",
    "#     print('FN: {}, FP: {}'.format(FN[Threshold_values.index(thres)],FP[Threshold_values.index(thres)]))\n",
    "#     print(new_roc)\n",
    "    if new_roc < roc:\n",
    "        roc = new_roc\n",
    "        best_thres = thres\n",
    "print('ROC: {} Thres:{}'.format(roc,best_thres))"
   ]
  },
  {
   "cell_type": "markdown",
   "metadata": {
    "colab_type": "text",
    "id": "sD4CcgjXQvoL"
   },
   "source": [
    "<pre>\n",
    "<font color='red'><b>D.</b></font> Compute performance metrics(for regression) for the given data <strong>5_d.csv</strong>\n",
    "    <b>Note 2:</b> use pandas or numpy to read the data from <b>5_d.csv</b>\n",
    "    <b>Note 1:</b> <b>5_d.csv</b> will having two columns Y and predicted_Y both are real valued features\n",
    "<ol>\n",
    "<li> Compute Mean Square Error </li>\n",
    "<li> Compute MAPE: https://www.youtube.com/watch?v=ly6ztgIkUxk</li>\n",
    "<li> Compute R^2 error: https://en.wikipedia.org/wiki/Coefficient_of_determination#Definitions </li>\n",
    "</ol>\n",
    "</pre>"
   ]
  },
  {
   "cell_type": "code",
   "execution_count": null,
   "metadata": {},
   "outputs": [],
   "source": []
  }
 ],
 "metadata": {
  "colab": {
   "collapsed_sections": [],
   "name": "5_Performance_metrics_Instructions.ipynb",
   "provenance": [],
   "version": "0.3.2"
  },
  "kernelspec": {
   "display_name": "Python 3",
   "language": "python",
   "name": "python3"
  },
  "language_info": {
   "codemirror_mode": {
    "name": "ipython",
    "version": 3
   },
   "file_extension": ".py",
   "mimetype": "text/x-python",
   "name": "python",
   "nbconvert_exporter": "python",
   "pygments_lexer": "ipython3",
   "version": "3.7.3"
  }
 },
 "nbformat": 4,
 "nbformat_minor": 1
}
