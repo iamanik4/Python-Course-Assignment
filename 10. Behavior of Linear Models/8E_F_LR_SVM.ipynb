{
 "cells": [
  {
   "cell_type": "markdown",
   "metadata": {
    "colab_type": "text",
    "id": "5HExLQrE4ZxR"
   },
   "source": [
    "<h1><font color='blue'> 9E and 9F: Finding the Probability P(Y==1|X)</font></h1>"
   ]
  },
  {
   "cell_type": "markdown",
   "metadata": {
    "colab_type": "text",
    "id": "4LuKrFzC4ZxV"
   },
   "source": [
    "<h2><font color='Geen'> 9E: Implementing Decision Function of SVM RBF Kernel</font></h2>"
   ]
  },
  {
   "cell_type": "markdown",
   "metadata": {
    "colab_type": "text",
    "id": "1wES-wWN4ZxX"
   },
   "source": [
    "<font face=' Comic Sans MS' size=3>After we train a kernel SVM model, we will be getting support vectors and their corresponsing coefficients $\\alpha_{i}$\n",
    "\n",
    "Check the documentation for better understanding of these attributes: \n",
    "\n",
    "https://scikit-learn.org/stable/modules/generated/sklearn.svm.SVC.html\n",
    "<img src='https://i.imgur.com/K11msU4.png' width=500>\n",
    "\n",
    "As a part of this assignment you will be implementing the ```decision_function()``` of kernel SVM, here decision_function() means based on the value return by ```decision_function()``` model will classify the data point either as positive or negative\n",
    "\n",
    "Ex 1: In logistic regression After traning the models with the optimal weights $w$ we get, we will find the value $\\frac{1}{1+\\exp(-(wx+b))}$, if this value comes out to be < 0.5 we will mark it as negative class, else its positive class\n",
    "\n",
    "Ex 2: In Linear SVM After traning the models with the optimal weights $w$ we get, we will find the value of $sign(wx+b)$, if this value comes out to be -ve we will mark it as negative class, else its positive class.\n",
    "\n",
    "Similarly in Kernel SVM After traning the models with the coefficients $\\alpha_{i}$ we get, we will find the value of \n",
    "$sign(\\sum_{i=1}^{n}(y_{i}\\alpha_{i}K(x_{i},x_{q})) + intercept)$, here $K(x_{i},x_{q})$ is the RBF kernel. If this value comes out to be -ve we will mark $x_{q}$ as negative class, else its positive class.\n",
    "\n",
    "RBF kernel is defined as: $K(x_{i},x_{q})$ = $exp(-\\gamma ||x_{i} - x_{q}||^2)$\n",
    "\n",
    "For better understanding check this link: https://scikit-learn.org/stable/modules/svm.html#svm-mathematical-formulation\n",
    "</font>"
   ]
  },
  {
   "cell_type": "markdown",
   "metadata": {
    "colab_type": "text",
    "id": "z830CfMk4Zxa"
   },
   "source": [
    "## Task E"
   ]
  },
  {
   "cell_type": "markdown",
   "metadata": {
    "colab_type": "text",
    "id": "MuBxHiCQ4Zxc"
   },
   "source": [
    "> 1. Split the data into $X_{train}$(60), $X_{cv}$(20), $X_{test}$(20)\n",
    "\n",
    "> 2. Train $SVC(gamma=0.001, C=100.)$ on the ($X_{train}$, $y_{train}$)\n",
    "\n",
    "> 3. Get the decision boundry values $f_{cv}$ on the $X_{cv}$ data  i.e. ` `$f_{cv}$ ```= decision_function(```$X_{cv}$```)```  <font color='red'>you need to implement this decision_function()</font>"
   ]
  },
  {
   "cell_type": "code",
   "execution_count": 1,
   "metadata": {
    "colab": {},
    "colab_type": "code",
    "id": "fCgMNEvI4Zxf"
   },
   "outputs": [],
   "source": [
    "import numpy as np\n",
    "import pandas as pd\n",
    "from sklearn.datasets import make_classification\n",
    "from sklearn.model_selection import train_test_split\n",
    "from sklearn.svm import SVC"
   ]
  },
  {
   "cell_type": "code",
   "execution_count": 2,
   "metadata": {
    "colab": {},
    "colab_type": "code",
    "id": "ANUNIqCe4Zxn"
   },
   "outputs": [],
   "source": [
    "X, y = make_classification(n_samples=5000, n_features=5, n_redundant=2,\n",
    "                           n_classes=2, weights=[0.7], class_sep=0.7, random_state=15)"
   ]
  },
  {
   "cell_type": "markdown",
   "metadata": {
    "colab_type": "text",
    "id": "tHie1zqH4Zxt"
   },
   "source": [
    "### Pseudo code\n",
    "\n",
    "clf = SVC(gamma=0.001, C=100.)<br>\n",
    "clf.fit(Xtrain, ytrain)\n",
    "\n",
    "<font color='green'>def</font> <font color='blue'>decision_function</font>(Xcv, ...): #use appropriate parameters <br>\n",
    "&nbsp;&nbsp;&nbsp;&nbsp;&nbsp;&nbsp;<font color='green'>for</font> a data point $x_q$ <font color='green'>in</font> Xcv: <br>\n",
    "&nbsp;&nbsp;&nbsp;&nbsp;&nbsp;&nbsp;&nbsp;&nbsp;&nbsp;&nbsp;&nbsp;&nbsp;<font color='grey'>#write code to implement $(\\sum_{i=1}^{\\text{all the support vectors}}(y_{i}\\alpha_{i}K(x_{i},x_{q})) + intercept)$, here the values $y_i$, $\\alpha_{i}$, and $intercept$ can be obtained from the trained model</font><br>\n",
    "   <font color='green'>return</font> <font color='grey'><i># the decision_function output for all the data points in the Xcv</i></font>\n",
    "    \n",
    "fcv = decision_function(Xcv, ...)  <i># based on your requirement you can pass any other parameters </i>\n",
    "\n",
    "<b>Note</b>: Make sure the values you get as fcv, should be equal to outputs of clf.decision_function(Xcv)\n"
   ]
  },
  {
   "cell_type": "code",
   "execution_count": 3,
   "metadata": {},
   "outputs": [
    {
     "data": {
      "text/plain": [
       "(5000, 6)"
      ]
     },
     "execution_count": 3,
     "metadata": {},
     "output_type": "execute_result"
    }
   ],
   "source": [
    "# you can write your code here\n",
    "data = np.hstack((X, y.reshape(5000,1)))\n",
    "data.shape"
   ]
  },
  {
   "cell_type": "code",
   "execution_count": 4,
   "metadata": {},
   "outputs": [
    {
     "data": {
      "text/plain": [
       "((3000, 5), (1000, 5), (1000, 5))"
      ]
     },
     "execution_count": 4,
     "metadata": {},
     "output_type": "execute_result"
    }
   ],
   "source": [
    "X_train,X_rem,Y_train,Y_rem = train_test_split(X,y,test_size=0.40,random_state=16)\n",
    "X_cv,X_test,Y_cv,Y_test = train_test_split(X_rem,Y_rem,test_size=0.50,random_state=16)\n",
    "\n",
    "X_train.shape,X_cv.shape,X_test.shape"
   ]
  },
  {
   "cell_type": "code",
   "execution_count": 5,
   "metadata": {
    "scrolled": true
   },
   "outputs": [
    {
     "data": {
      "text/plain": [
       "SVC(C=100, cache_size=200, class_weight=None, coef0=0.0,\n",
       "  decision_function_shape='ovr', degree=3, gamma=0.001, kernel='rbf',\n",
       "  max_iter=-1, probability=False, random_state=None, shrinking=True,\n",
       "  tol=0.001, verbose=False)"
      ]
     },
     "execution_count": 5,
     "metadata": {},
     "output_type": "execute_result"
    }
   ],
   "source": [
    "model = SVC(gamma = 0.001, C = 100)\n",
    "model.fit(X_train,Y_train)"
   ]
  },
  {
   "cell_type": "code",
   "execution_count": 6,
   "metadata": {},
   "outputs": [],
   "source": [
    "f_cv = model.decision_function(X_cv)\n",
    "# f_cv"
   ]
  },
  {
   "cell_type": "code",
   "execution_count": 7,
   "metadata": {},
   "outputs": [],
   "source": [
    "def calculate_rbf(X_i,X_q):\n",
    "#     k = np.exp(-model.gamma * np.linalg.norm(X_i-X_q))\n",
    "    k = np.exp(-model.gamma * np.dot(X_i-X_q, X_i-X_q))\n",
    "    return k"
   ]
  },
  {
   "cell_type": "code",
   "execution_count": 8,
   "metadata": {},
   "outputs": [],
   "source": [
    "from tqdm import tqdm\n",
    "\n",
    "def custom_decision_function(Xcv): #use appropriate parameters\n",
    "    ycv = np.zeros(Xcv.shape[0]).reshape((Xcv.shape[0],1))\n",
    "    for i in tqdm(range(Xcv.shape[0])): \n",
    "        sum = 0\n",
    "        for j in range(model.support_vectors_.shape[0]):\n",
    "            kernal = calculate_rbf(model.support_vectors_[j],Xcv[i])\n",
    "            sum += kernal*model.dual_coef_[0][j]\n",
    "        ycv[i] = sum + model.intercept_\n",
    "    return ycv"
   ]
  },
  {
   "cell_type": "code",
   "execution_count": 9,
   "metadata": {},
   "outputs": [
    {
     "name": "stderr",
     "output_type": "stream",
     "text": [
      "100%|██████████| 1000/1000 [00:05<00:00, 197.24it/s]\n",
      "100%|██████████| 1000/1000 [00:06<00:00, 145.36it/s]\n"
     ]
    }
   ],
   "source": [
    "f_cv_custom = custom_decision_function(X_cv)\n",
    "f_test_custom = custom_decision_function(X_test)"
   ]
  },
  {
   "cell_type": "code",
   "execution_count": 10,
   "metadata": {},
   "outputs": [
    {
     "data": {
      "text/plain": [
       "array([[0.],\n",
       "       [0.],\n",
       "       [0.],\n",
       "       [0.],\n",
       "       [0.]])"
      ]
     },
     "execution_count": 10,
     "metadata": {},
     "output_type": "execute_result"
    }
   ],
   "source": [
    "(f_cv_custom - f_cv.reshape(1000,1))[:5]"
   ]
  },
  {
   "cell_type": "markdown",
   "metadata": {
    "colab_type": "text",
    "id": "c0bKCboN4Zxu"
   },
   "source": [
    "<h2><font color='Geen'> 9F: Implementing Platt Scaling to find P(Y==1|X)</font></h2>"
   ]
  },
  {
   "cell_type": "markdown",
   "metadata": {
    "colab_type": "text",
    "id": "nMn7OEN94Zxw"
   },
   "source": [
    "Check this <a href='https://drive.google.com/open?id=133odBinMOIVb_rh_GQxxsyMRyW-Zts7a'>PDF</a>\n",
    "<img src='https://i.imgur.com/CAMnVnh.png'>\n"
   ]
  },
  {
   "cell_type": "markdown",
   "metadata": {
    "colab_type": "text",
    "id": "e0n5EFkx4Zxz"
   },
   "source": [
    "## TASK F"
   ]
  },
  {
   "cell_type": "markdown",
   "metadata": {
    "colab_type": "text",
    "id": "t0HOqVJq4Zx1"
   },
   "source": [
    "\n",
    "> 4. Apply SGD algorithm with ($f_{cv}$, $y_{cv}$) and find the weight $W$ intercept $b$ ```Note: here our data is of one dimensional so we will have a one dimensional weight vector i.e W.shape (1,)``` \n",
    "\n",
    "> Note1: Don't forget to change the values of $y_{cv}$ as mentioned in the above image. you will calculate y+, y- based on data points in train data\n",
    "\n",
    "> Note2: the Sklearn's SGD algorithm doesn't support the real valued outputs, you need to use the code that was done in the `'Logistic Regression with SGD and L2'` Assignment after modifying loss function, and use same parameters that used in that assignment.\n",
    "<img src='https://i.imgur.com/zKYE9Oc.png'>\n",
    "if Y[i] is 1, it will be replaced with y+ value else it will replaced with y- value\n",
    "\n",
    "> 5. For a given data point from $X_{test}$, $P(Y=1|X) = \\frac{1}{1+exp(-(W*f_{test}+ b))}$ where ` `$f_{test}$ ```= decision_function(```$X_{test}$```)```, W and b will be learned as metioned in the above step"
   ]
  },
  {
   "cell_type": "markdown",
   "metadata": {
    "colab_type": "text",
    "id": "oTY7z2bd4Zx2"
   },
   "source": [
    "__Note: in the above algorithm, the steps 2, 4 might need hyper parameter tuning, To reduce the complexity of the assignment we are excluding the hyerparameter tuning part, but intrested students can try that__"
   ]
  },
  {
   "cell_type": "markdown",
   "metadata": {
    "colab_type": "text",
    "id": "CM3odN1Z4Zx3"
   },
   "source": [
    "\n",
    "If any one wants to try other calibration algorithm istonic regression also please check these tutorials\n",
    "\n",
    "1. http://fa.bianp.net/blog/tag/scikit-learn.html#fn:1\n",
    "\n",
    "2. https://drive.google.com/open?id=1MzmA7QaP58RDzocB0RBmRiWfl7Co_VJ7\n",
    "\n",
    "3. https://drive.google.com/open?id=133odBinMOIVb_rh_GQxxsyMRyW-Zts7a\n",
    "\n",
    "4. https://stat.fandom.com/wiki/Isotonic_regression#Pool_Adjacent_Violators_Algorithm\n"
   ]
  },
  {
   "cell_type": "code",
   "execution_count": 11,
   "metadata": {},
   "outputs": [
    {
     "data": {
      "text/plain": [
       "(305, 695, 0.996742671009772, 0.0014347202295552368)"
      ]
     },
     "execution_count": 11,
     "metadata": {},
     "output_type": "execute_result"
    }
   ],
   "source": [
    "N_positive = 0\n",
    "N_negative = 0\n",
    "for i in range(len(Y_cv)):\n",
    "    if Y_cv[i] > 0:\n",
    "        N_positive +=1\n",
    "    else: \n",
    "        N_negative +=1\n",
    "y_positive = (N_positive + 1) / (N_positive + 2)\n",
    "y_negative = 1/(N_negative + 2)\n",
    "\n",
    "N_positive,N_negative,y_positive,y_negative"
   ]
  },
  {
   "cell_type": "code",
   "execution_count": 12,
   "metadata": {},
   "outputs": [
    {
     "data": {
      "text/plain": [
       "array([-1.80554548])"
      ]
     },
     "execution_count": 12,
     "metadata": {},
     "output_type": "execute_result"
    }
   ],
   "source": [
    "f_cv_custom[0]"
   ]
  },
  {
   "cell_type": "code",
   "execution_count": 13,
   "metadata": {},
   "outputs": [],
   "source": [
    "import math\n",
    "\n",
    "def sigmoid(x,w,b):\n",
    "    a = np.dot(x,w)+b\n",
    "    return 1/(1 + math.exp(-a))"
   ]
  },
  {
   "cell_type": "code",
   "execution_count": 14,
   "metadata": {},
   "outputs": [],
   "source": [
    "class CustomSGDClassifier:\n",
    "    def __init__(self,alpha = 0.0001,N = len(X_train),b = 0,w = np.zeros_like(X_train[0]),eta0 = 0.0001,ephocs = 1):\n",
    "        self.alpha = alpha\n",
    "        self.N = N\n",
    "        self.b = b\n",
    "        self.w = w\n",
    "        self.eta0 = eta0\n",
    "        self.ephocs = ephocs\n",
    "        self.train_loss = []\n",
    "        self.result = []\n",
    "    \n",
    "    def calculateLoss(self,w,b,X,Y):\n",
    "        loss = []\n",
    "        for i in np.arange(0,len(X)):\n",
    "            sig = sigmoid(X[i],w,b)\n",
    "            if Y[i] > 0:\n",
    "                loss.append(-y_positive*np.log(sig) - (1-y_positive)*np.log(1-sig) + self.alpha*np.dot(w,w)/2)\n",
    "            else:\n",
    "                loss.append(-y_negative*np.log(sig) - (1-y_negative)*np.log(1-sig) + self.alpha*np.dot(w,w)/2)\n",
    "        return np.mean(loss)\n",
    "    \n",
    "    def fit(self,X,Y):\n",
    "        initial_loss = self.calculateLoss(w,b,X,Y)\n",
    "#         print('Initial Loss:',initial_loss)\n",
    "        for ep in range(self.ephocs):\n",
    "            for i in range(N):\n",
    "                sig = sigmoid(X[i],self.w,self.b)\n",
    "                w_new = (1- (self.alpha*self.eta0)/self.N)*self.w + self.eta0*X[i]*(Y[i]-sig)\n",
    "                b_new = self.b + self.eta0*(Y[i]-sig)\n",
    "                self.w = w_new\n",
    "                self.b = b_new\n",
    "            next_loss = self.calculateLoss(self.w,self.b,X,Y)\n",
    "            self.train_loss.append(next_loss)\n",
    "            print('-- Epoch: {}, Avg. Train Loss: {}'.format(ep+1,next_loss))\n",
    "            if (next_loss < initial_loss) & ((initial_loss-next_loss)<0.001):\n",
    "                break\n",
    "            initial_loss = next_loss\n",
    "            \n",
    "    def getProbability(self,X):\n",
    "        res = []\n",
    "        for i in range(len(X)):\n",
    "            prob = 1/(1+math.exp(-(self.w*X[i]+self.b)))\n",
    "            res.append(prob)\n",
    "        return res\n"
   ]
  },
  {
   "cell_type": "code",
   "execution_count": 15,
   "metadata": {},
   "outputs": [
    {
     "name": "stdout",
     "output_type": "stream",
     "text": [
      "-- Epoch: 1, Avg. Train Loss: 0.6079155706248737\n",
      "-- Epoch: 2, Avg. Train Loss: 0.5432836790075528\n",
      "-- Epoch: 3, Avg. Train Loss: 0.49358708840014864\n",
      "-- Epoch: 4, Avg. Train Loss: 0.4547003818858166\n",
      "-- Epoch: 5, Avg. Train Loss: 0.42371468946471313\n",
      "-- Epoch: 6, Avg. Train Loss: 0.39859299715826124\n",
      "-- Epoch: 7, Avg. Train Loss: 0.3778994410869025\n",
      "-- Epoch: 8, Avg. Train Loss: 0.3606085361894483\n",
      "-- Epoch: 9, Avg. Train Loss: 0.3459761556072111\n",
      "-- Epoch: 10, Avg. Train Loss: 0.33345327076465753\n",
      "-- Epoch: 11, Avg. Train Loss: 0.3226281158110312\n",
      "-- Epoch: 12, Avg. Train Loss: 0.3131870226728602\n",
      "-- Epoch: 13, Avg. Train Loss: 0.30488754386278194\n",
      "-- Epoch: 14, Avg. Train Loss: 0.2975397344274488\n",
      "-- Epoch: 15, Avg. Train Loss: 0.29099291865545984\n",
      "-- Epoch: 16, Avg. Train Loss: 0.28512619511616644\n",
      "-- Epoch: 17, Avg. Train Loss: 0.2798415264456194\n",
      "-- Epoch: 18, Avg. Train Loss: 0.27505864189224627\n",
      "-- Epoch: 19, Avg. Train Loss: 0.2707112289054954\n",
      "-- Epoch: 20, Avg. Train Loss: 0.2667440535831429\n",
      "-- Epoch: 21, Avg. Train Loss: 0.2631107589204572\n",
      "-- Epoch: 22, Avg. Train Loss: 0.2597721635902968\n",
      "-- Epoch: 23, Avg. Train Loss: 0.2566949345238134\n",
      "-- Epoch: 24, Avg. Train Loss: 0.2538505416185785\n",
      "-- Epoch: 25, Avg. Train Loss: 0.2512144275145971\n",
      "-- Epoch: 26, Avg. Train Loss: 0.248765342861617\n",
      "-- Epoch: 27, Avg. Train Loss: 0.24648481005728792\n",
      "-- Epoch: 28, Avg. Train Loss: 0.24435668754887577\n",
      "-- Epoch: 29, Avg. Train Loss: 0.2423668134719499\n",
      "-- Epoch: 30, Avg. Train Loss: 0.2405027123436499\n",
      "-- Epoch: 31, Avg. Train Loss: 0.23875335222033492\n",
      "-- Epoch: 32, Avg. Train Loss: 0.23710894251026926\n",
      "-- Epoch: 33, Avg. Train Loss: 0.23556076474355955\n",
      "-- Epoch: 34, Avg. Train Loss: 0.23410103021730055\n",
      "-- Epoch: 35, Avg. Train Loss: 0.23272275967932615\n",
      "-- Epoch: 36, Avg. Train Loss: 0.23141968118067596\n",
      "-- Epoch: 37, Avg. Train Loss: 0.23018614298225082\n",
      "-- Epoch: 38, Avg. Train Loss: 0.2290170389950925\n",
      "-- Epoch: 39, Avg. Train Loss: 0.2279077447035672\n",
      "-- Epoch: 40, Avg. Train Loss: 0.22685406189458995\n",
      "-- Epoch: 41, Avg. Train Loss: 0.22585217081505243\n",
      "-- Epoch: 42, Avg. Train Loss: 0.22489858862016104\n",
      "Wall time: 1.78 s\n"
     ]
    }
   ],
   "source": [
    "w = np.zeros_like(f_cv_custom[0])\n",
    "b = 0\n",
    "eta0  = 0.0001\n",
    "alpha = 0.0001\n",
    "N = len(f_cv_custom)\n",
    "# f_test_custom = custom_decision_function(X_test)\n",
    "ephocs=60\n",
    "model = CustomSGDClassifier(alpha,N,b,w,eta0,ephocs)\n",
    "%time model.fit(f_cv_custom,Y_cv)"
   ]
  },
  {
   "cell_type": "code",
   "execution_count": 20,
   "metadata": {},
   "outputs": [
    {
     "data": {
      "image/png": "[encoded data removed]",
      "text/plain": [
       "<Figure size 432x288 with 1 Axes>"
      ]
     },
     "metadata": {
      "needs_background": "light"
     },
     "output_type": "display_data"
    }
   ],
   "source": [
    "import matplotlib.pyplot as plt\n",
    "\n",
    "# Plotting Loss and Epoch\n",
    "plt.plot(model.train_loss, range(len(model.train_loss)))\n",
    "plt.title('Loss VS Epoch')\n",
    "plt.show()"
   ]
  },
  {
   "cell_type": "code",
   "execution_count": 21,
   "metadata": {},
   "outputs": [
    {
     "data": {
      "text/plain": [
       "(array([1.12246588]), -0.10995353241853036)"
      ]
     },
     "execution_count": 21,
     "metadata": {},
     "output_type": "execute_result"
    }
   ],
   "source": [
    "model.w,model.b"
   ]
  },
  {
   "cell_type": "code",
   "execution_count": 22,
   "metadata": {},
   "outputs": [
    {
     "data": {
      "text/plain": [
       "[0.01596275869878887,\n",
       " 0.6256673966097421,\n",
       " 0.8474897736634276,\n",
       " 0.8920350885870294,\n",
       " 0.05398627856798464]"
      ]
     },
     "execution_count": 22,
     "metadata": {},
     "output_type": "execute_result"
    }
   ],
   "source": [
    "prob_test = model.getProbability(f_test_custom)\n",
    "prob_test[0:5]"
   ]
  },
  {
   "cell_type": "code",
   "execution_count": 23,
   "metadata": {},
   "outputs": [
    {
     "data": {
      "text/plain": [
       "(932, 1000)"
      ]
     },
     "execution_count": 23,
     "metadata": {},
     "output_type": "execute_result"
    }
   ],
   "source": [
    "correct = 0\n",
    "for i in range(len(Y_test)):\n",
    "    if (prob_test[i] > 0.5 and Y_test[i]==1) or (prob_test[i] < 0.5 and Y_test[i]==0):\n",
    "        correct += 1\n",
    "        \n",
    "correct,len(Y_test)"
   ]
  }
 ],
 "metadata": {
  "colab": {
   "collapsed_sections": [],
   "name": "8E&F_LR_SVM.ipynb",
   "provenance": []
  },
  "kernelspec": {
   "display_name": "Python 3",
   "language": "python",
   "name": "python3"
  },
  "language_info": {
   "codemirror_mode": {
    "name": "ipython",
    "version": 3
   },
   "file_extension": ".py",
   "mimetype": "text/x-python",
   "name": "python",
   "nbconvert_exporter": "python",
   "pygments_lexer": "ipython3",
   "version": "3.7.3"
  }
 },
 "nbformat": 4,
 "nbformat_minor": 1
}
