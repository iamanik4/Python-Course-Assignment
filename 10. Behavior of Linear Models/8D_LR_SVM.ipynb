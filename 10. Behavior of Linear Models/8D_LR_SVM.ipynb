{
 "cells": [
  {
   "cell_type": "markdown",
   "metadata": {
    "colab_type": "text",
    "id": "86Tvnj5UblTy"
   },
   "source": [
    "## Task-D: Collinear features and their effect on linear models"
   ]
  },
  {
   "cell_type": "code",
   "execution_count": 1,
   "metadata": {
    "colab": {},
    "colab_type": "code",
    "id": "qn_eOn2EblT3"
   },
   "outputs": [],
   "source": [
    "%matplotlib inline\n",
    "import warnings\n",
    "warnings.filterwarnings(\"ignore\")\n",
    "import pandas as pd\n",
    "import numpy as np\n",
    "from sklearn.datasets import load_iris\n",
    "from sklearn.linear_model import SGDClassifier\n",
    "from sklearn.model_selection import GridSearchCV\n",
    "from sklearn.model_selection import train_test_split\n",
    "from sklearn.linear_model import LogisticRegression\n",
    "import seaborn as sns\n",
    "import matplotlib.pyplot as plt"
   ]
  },
  {
   "cell_type": "code",
   "execution_count": 2,
   "metadata": {
    "colab": {},
    "colab_type": "code",
    "id": "VMoYWIayblUB"
   },
   "outputs": [],
   "source": [
    "data = pd.read_csv('task_d.csv')"
   ]
  },
  {
   "cell_type": "code",
   "execution_count": 3,
   "metadata": {
    "colab": {},
    "colab_type": "code",
    "id": "RfStXG4tblUI",
    "outputId": "ddf4eec6-7f53-4d28-914f-23133957d6d5"
   },
   "outputs": [
    {
     "data": {
      "text/html": [
       "<div>\n",
       "<style scoped>\n",
       "    .dataframe tbody tr th:only-of-type {\n",
       "        vertical-align: middle;\n",
       "    }\n",
       "\n",
       "    .dataframe tbody tr th {\n",
       "        vertical-align: top;\n",
       "    }\n",
       "\n",
       "    .dataframe thead th {\n",
       "        text-align: right;\n",
       "    }\n",
       "</style>\n",
       "<table border=\"1\" class=\"dataframe\">\n",
       "  <thead>\n",
       "    <tr style=\"text-align: right;\">\n",
       "      <th></th>\n",
       "      <th>x</th>\n",
       "      <th>y</th>\n",
       "      <th>z</th>\n",
       "      <th>x*x</th>\n",
       "      <th>2*y</th>\n",
       "      <th>2*z+3*x*x</th>\n",
       "      <th>w</th>\n",
       "      <th>target</th>\n",
       "    </tr>\n",
       "  </thead>\n",
       "  <tbody>\n",
       "    <tr>\n",
       "      <th>0</th>\n",
       "      <td>-0.581066</td>\n",
       "      <td>0.841837</td>\n",
       "      <td>-1.012978</td>\n",
       "      <td>-0.604025</td>\n",
       "      <td>0.841837</td>\n",
       "      <td>-0.665927</td>\n",
       "      <td>-0.536277</td>\n",
       "      <td>0</td>\n",
       "    </tr>\n",
       "    <tr>\n",
       "      <th>1</th>\n",
       "      <td>-0.894309</td>\n",
       "      <td>-0.207835</td>\n",
       "      <td>-1.012978</td>\n",
       "      <td>-0.883052</td>\n",
       "      <td>-0.207835</td>\n",
       "      <td>-0.917054</td>\n",
       "      <td>-0.522364</td>\n",
       "      <td>0</td>\n",
       "    </tr>\n",
       "    <tr>\n",
       "      <th>2</th>\n",
       "      <td>-1.207552</td>\n",
       "      <td>0.212034</td>\n",
       "      <td>-1.082312</td>\n",
       "      <td>-1.150918</td>\n",
       "      <td>0.212034</td>\n",
       "      <td>-1.166507</td>\n",
       "      <td>0.205738</td>\n",
       "      <td>0</td>\n",
       "    </tr>\n",
       "    <tr>\n",
       "      <th>3</th>\n",
       "      <td>-1.364174</td>\n",
       "      <td>0.002099</td>\n",
       "      <td>-0.943643</td>\n",
       "      <td>-1.280666</td>\n",
       "      <td>0.002099</td>\n",
       "      <td>-1.266540</td>\n",
       "      <td>-0.665720</td>\n",
       "      <td>0</td>\n",
       "    </tr>\n",
       "    <tr>\n",
       "      <th>4</th>\n",
       "      <td>-0.737687</td>\n",
       "      <td>1.051772</td>\n",
       "      <td>-1.012978</td>\n",
       "      <td>-0.744934</td>\n",
       "      <td>1.051772</td>\n",
       "      <td>-0.792746</td>\n",
       "      <td>-0.735054</td>\n",
       "      <td>0</td>\n",
       "    </tr>\n",
       "  </tbody>\n",
       "</table>\n",
       "</div>"
      ],
      "text/plain": [
       "          x         y         z       x*x       2*y  2*z+3*x*x         w  \\\n",
       "0 -0.581066  0.841837 -1.012978 -0.604025  0.841837  -0.665927 -0.536277   \n",
       "1 -0.894309 -0.207835 -1.012978 -0.883052 -0.207835  -0.917054 -0.522364   \n",
       "2 -1.207552  0.212034 -1.082312 -1.150918  0.212034  -1.166507  0.205738   \n",
       "3 -1.364174  0.002099 -0.943643 -1.280666  0.002099  -1.266540 -0.665720   \n",
       "4 -0.737687  1.051772 -1.012978 -0.744934  1.051772  -0.792746 -0.735054   \n",
       "\n",
       "   target  \n",
       "0       0  \n",
       "1       0  \n",
       "2       0  \n",
       "3       0  \n",
       "4       0  "
      ]
     },
     "execution_count": 3,
     "metadata": {},
     "output_type": "execute_result"
    }
   ],
   "source": [
    "data.head()"
   ]
  },
  {
   "cell_type": "code",
   "execution_count": 4,
   "metadata": {},
   "outputs": [
    {
     "data": {
      "text/plain": [
       "(100, 8)"
      ]
     },
     "execution_count": 4,
     "metadata": {},
     "output_type": "execute_result"
    }
   ],
   "source": [
    "data.shape"
   ]
  },
  {
   "cell_type": "code",
   "execution_count": 5,
   "metadata": {
    "colab": {},
    "colab_type": "code",
    "id": "JIIuomCkblUP"
   },
   "outputs": [],
   "source": [
    "X = data.drop(['target'], axis=1).values\n",
    "Y = data['target'].values"
   ]
  },
  {
   "cell_type": "code",
   "execution_count": 6,
   "metadata": {},
   "outputs": [],
   "source": [
    "X_train,X_test,Y_train,Y_test = train_test_split(X,Y,test_size=0.25,random_state=16)"
   ]
  },
  {
   "cell_type": "code",
   "execution_count": 36,
   "metadata": {},
   "outputs": [
    {
     "data": {
      "text/plain": [
       "(array([[ 4.54202458e-02, -1.46744180e+00,  5.81716801e-01,\n",
       "         -1.24864784e-02, -1.46744180e+00,  5.89939855e-02,\n",
       "          1.38043580e-01],\n",
       "        [-5.81065904e-01,  6.31902691e-01, -9.43643106e-01,\n",
       "         -6.04024675e-01,  6.31902691e-01, -6.57555878e-01,\n",
       "         -1.89048402e+00],\n",
       "        [-1.05093052e+00,  6.31902691e-01, -8.74308565e-01,\n",
       "         -1.01838044e+00,  6.31902691e-01, -1.02210899e+00,\n",
       "         -1.67303624e+00],\n",
       "        [-1.11201292e-01,  1.26170604e+00, -9.43643106e-01,\n",
       "         -1.64556439e-01,  1.26170604e+00, -2.62030398e-01,\n",
       "         -3.63631706e-01],\n",
       "        [ 1.92487869e+00,  2.09934449e-03,  1.27506221e+00,\n",
       "          2.02999446e+00,  2.09934449e-03,  1.98095483e+00,\n",
       "         -9.90981942e-02],\n",
       "        [-1.05093052e+00, -2.07835104e-01, -1.01297765e+00,\n",
       "         -1.01838044e+00, -2.07835104e-01, -1.03885081e+00,\n",
       "         -1.43304574e+00],\n",
       "        [-7.37687441e-01,  2.12033793e-01, -1.15164673e+00,\n",
       "         -7.44933538e-01,  2.12033793e-01, -8.09487887e-01,\n",
       "         -1.03823234e+00],\n",
       "        [-1.67741667e+00, -2.07835104e-01, -1.08231219e+00,\n",
       "         -1.53179095e+00, -2.07835104e-01, -1.50929593e+00,\n",
       "         -4.72829093e-02],\n",
       "        [-1.20755205e+00,  2.12033793e-01, -1.08231219e+00,\n",
       "         -1.15091848e+00,  2.12033793e-01, -1.16650718e+00,\n",
       "          2.05737674e-01],\n",
       "        [ 2.02041783e-01, -8.37638451e-01,  9.28389507e-01,\n",
       "          1.42373757e-01, -8.37638451e-01,  2.40224179e-01,\n",
       "          1.25492750e+00],\n",
       "        [-5.81065904e-01,  1.47164049e+00, -9.43643106e-01,\n",
       "         -6.04024675e-01,  1.47164049e+00, -6.57555878e-01,\n",
       "          3.95229696e-01],\n",
       "        [ 4.54202458e-02,  8.41837140e-01, -1.08231219e+00,\n",
       "         -1.24864784e-02,  8.41837140e-01, -1.41907845e-01,\n",
       "         -2.44856430e-01],\n",
       "        [ 1.29839254e+00, -1.67737625e+00,  1.06705859e+00,\n",
       "          1.30452309e+00, -1.67737625e+00,  1.30291115e+00,\n",
       "          9.30762903e-01],\n",
       "        [-4.24444366e-01,  8.41837140e-01, -9.43643106e-01,\n",
       "         -4.60325538e-01,  8.41837140e-01, -5.28225324e-01,\n",
       "         -4.44492158e-01],\n",
       "        [-1.36417359e+00,  1.05177159e+00, -1.29031581e+00,\n",
       "         -1.28066624e+00,  1.05177159e+00, -1.30839410e+00,\n",
       "         -1.51203058e+00],\n",
       "        [ 1.45501408e+00,  2.12033793e-01,  1.13639313e+00,\n",
       "          1.48170552e+00,  2.12033793e-01,  1.47074789e+00,\n",
       "          1.09369365e+00],\n",
       "        [-7.37687441e-01,  4.21968242e-01, -1.01297765e+00,\n",
       "         -7.44933538e-01,  4.21968242e-01, -7.92746068e-01,\n",
       "          1.13548931e-01],\n",
       "        [-5.81065904e-01,  4.21968242e-01, -8.04974023e-01,\n",
       "         -6.04024675e-01,  4.21968242e-01, -6.40814059e-01,\n",
       "         -9.79958255e-02],\n",
       "        [ 3.58663321e-01, -1.04757290e+00,  4.43047718e-01,\n",
       "          3.00024267e-01, -1.04757290e+00,  3.23514729e-01,\n",
       "         -5.47497799e-01],\n",
       "        [ 3.58663321e-01, -6.27704002e-01,  1.13639313e+00,\n",
       "          3.00024267e-01, -6.27704002e-01,  4.07223826e-01,\n",
       "         -5.05432967e-02],\n",
       "        [-1.36417359e+00,  2.09934449e-03, -9.43643106e-01,\n",
       "         -1.28066624e+00,  2.09934449e-03, -1.26653955e+00,\n",
       "         -6.65719960e-01],\n",
       "        [ 9.85149470e-01, -6.27704002e-01,  1.27506221e+00,\n",
       "          9.58529052e-01, -6.27704002e-01,  1.01662605e+00,\n",
       "          2.24724411e+00],\n",
       "        [-1.05093052e+00, -2.07835104e-01, -1.01297765e+00,\n",
       "         -1.01838044e+00, -2.07835104e-01, -1.03885081e+00,\n",
       "         -1.66480188e+00],\n",
       "        [ 1.76825716e+00, -2.07835104e-01,  1.06705859e+00,\n",
       "          1.84444121e+00, -2.07835104e-01,  1.78884246e+00,\n",
       "          1.14984834e-01],\n",
       "        [-1.36417359e+00,  6.31902691e-01, -1.01297765e+00,\n",
       "         -1.28066624e+00,  6.31902691e-01, -1.27491046e+00,\n",
       "          3.68155902e-01],\n",
       "        [ 2.02041783e-01, -4.17769553e-01,  5.12382260e-01,\n",
       "          1.42373757e-01, -4.17769553e-01,  1.89998721e-01,\n",
       "         -3.47314072e-01],\n",
       "        [-5.81065904e-01,  1.47164049e+00, -8.74308565e-01,\n",
       "         -6.04024675e-01,  1.47164049e+00, -6.49184968e-01,\n",
       "         -1.06009817e+00],\n",
       "        [ 1.29839254e+00,  4.21968242e-01,  1.27506221e+00,\n",
       "          1.30452309e+00,  4.21968242e-01,  1.32802388e+00,\n",
       "          1.24065846e+00],\n",
       "        [-7.37687441e-01, -1.67737625e+00,  3.04378636e-01,\n",
       "         -7.44933538e-01, -1.67737625e+00, -6.33698785e-01,\n",
       "          1.36351540e+00],\n",
       "        [-7.37687441e-01,  8.41837140e-01, -8.74308565e-01,\n",
       "         -7.44933538e-01,  8.41837140e-01, -7.76004249e-01,\n",
       "         -4.94628747e-01],\n",
       "        [-1.05093052e+00,  6.31902691e-01, -6.66304941e-01,\n",
       "         -1.01838044e+00,  6.31902691e-01, -9.96996263e-01,\n",
       "          3.40778294e-01],\n",
       "        [-8.94308978e-01, -2.07835104e-01, -1.01297765e+00,\n",
       "         -8.83052126e-01, -2.07835104e-01, -9.17054076e-01,\n",
       "         -5.22364042e-01],\n",
       "        [ 6.71906395e-01, -2.07835104e-01,  9.28389507e-01,\n",
       "          6.23696110e-01, -2.07835104e-01,  6.73418752e-01,\n",
       "          8.99483447e-02],\n",
       "        [ 2.02041783e-01, -2.07835104e-01,  1.13639313e+00,\n",
       "          1.42373757e-01, -2.07835104e-01,  2.65336908e-01,\n",
       "          1.04153762e+00],\n",
       "        [-8.94308978e-01, -1.46744180e+00,  3.04378636e-01,\n",
       "         -8.83052126e-01, -1.46744180e+00, -7.58006793e-01,\n",
       "          1.01070437e+00],\n",
       "        [-1.11201292e-01,  6.31902691e-01, -8.04974023e-01,\n",
       "         -1.64556439e-01,  6.31902691e-01, -2.45288579e-01,\n",
       "         -1.61253425e+00],\n",
       "        [ 4.54202458e-02, -1.25750735e+00,  7.89720424e-01,\n",
       "         -1.24864784e-02, -1.25750735e+00,  8.41067144e-02,\n",
       "         -3.19664743e-01],\n",
       "        [-5.81065904e-01,  1.26170604e+00, -9.43643106e-01,\n",
       "         -6.04024675e-01,  1.26170604e+00, -6.57555878e-01,\n",
       "         -1.18216914e+00],\n",
       "        [ 5.15284858e-01, -8.37638451e-01,  7.20385883e-01,\n",
       "          4.60465051e-01, -8.37638451e-01,  5.01396559e-01,\n",
       "          1.28012377e+00],\n",
       "        [ 6.71906395e-01,  2.12033793e-01,  1.34439675e+00,\n",
       "          6.23696110e-01,  2.12033793e-01,  7.23644209e-01,\n",
       "          5.13102602e-01],\n",
       "        [ 5.15284858e-01, -1.04757290e+00,  7.89720424e-01,\n",
       "          4.60465051e-01, -1.04757290e+00,  5.09767469e-01,\n",
       "          2.02307093e-01],\n",
       "        [-5.81065904e-01,  1.47164049e+00, -6.66304941e-01,\n",
       "         -6.04024675e-01,  1.47164049e+00, -6.24072239e-01,\n",
       "         -1.39303650e+00],\n",
       "        [ 8.28527933e-01,  6.31902691e-01,  1.13639313e+00,\n",
       "          7.89717444e-01,  6.31902691e-01,  8.47952217e-01,\n",
       "          1.02133893e+00],\n",
       "        [ 3.58663321e-01,  2.73124718e+00, -9.43643106e-01,\n",
       "          3.00024267e-01,  2.73124718e+00,  1.56096537e-01,\n",
       "         -1.44650062e-01],\n",
       "        [ 8.28527933e-01, -8.37638451e-01,  1.55240038e+00,\n",
       "          7.89717444e-01, -8.37638451e-01,  8.98177675e-01,\n",
       "          1.94454083e+00],\n",
       "        [ 1.61163562e+00, -6.27704002e-01,  1.20572767e+00,\n",
       "          1.66167823e+00, -6.27704002e-01,  1.64109590e+00,\n",
       "         -7.00311876e-01],\n",
       "        [ 2.08150023e+00, -6.27704002e-01,  1.34439675e+00,\n",
       "          2.21833799e+00, -6.27704002e-01,  2.15883666e+00,\n",
       "          1.94105101e+00],\n",
       "        [ 5.15284858e-01,  1.89150938e+00, -1.15164673e+00,\n",
       "          4.60465051e-01,  1.89150938e+00,  2.75381999e-01,\n",
       "         -8.36756163e-01],\n",
       "        [ 2.23812177e+00,  2.09934449e-03,  1.41373130e+00,\n",
       "          2.40947180e+00,  2.09934449e-03,  2.33922977e+00,\n",
       "          1.67479348e+00],\n",
       "        [-7.37687441e-01,  8.41837140e-01, -1.08231219e+00,\n",
       "         -7.44933538e-01,  8.41837140e-01, -8.01116978e-01,\n",
       "         -1.20189106e+00],\n",
       "        [-5.81065904e-01,  8.41837140e-01, -1.01297765e+00,\n",
       "         -6.04024675e-01,  8.41837140e-01, -6.65926787e-01,\n",
       "         -4.06519765e-01],\n",
       "        [-8.94308978e-01,  1.05177159e+00, -1.01297765e+00,\n",
       "         -8.83052126e-01,  1.05177159e+00, -9.17054076e-01,\n",
       "         -1.08705470e+00],\n",
       "        [-1.67741667e+00, -4.17769553e-01, -1.01297765e+00,\n",
       "         -1.53179095e+00, -4.17769553e-01, -1.50092502e+00,\n",
       "          1.63838184e-01],\n",
       "        [-4.24444366e-01, -8.37638451e-01,  7.20385883e-01,\n",
       "         -4.60325538e-01, -8.37638451e-01, -3.27323493e-01,\n",
       "         -6.55300133e-01],\n",
       "        [ 4.54202458e-02, -1.46744180e+00,  6.51051342e-01,\n",
       "         -1.24864784e-02, -1.46744180e+00,  6.73648952e-02,\n",
       "         -3.30207602e-01],\n",
       "        [-4.24444366e-01,  6.31902691e-01, -1.01297765e+00,\n",
       "         -4.60325538e-01,  6.31902691e-01, -5.36596234e-01,\n",
       "         -1.10420653e+00],\n",
       "        [-5.81065904e-01,  8.41837140e-01, -1.01297765e+00,\n",
       "         -6.04024675e-01,  8.41837140e-01, -6.65926787e-01,\n",
       "         -5.36277029e-01],\n",
       "        [ 1.92487869e+00, -2.07835104e-01,  1.48306584e+00,\n",
       "          2.02999446e+00, -2.07835104e-01,  2.00606756e+00,\n",
       "          1.36780975e+00],\n",
       "        [ 8.28527933e-01, -4.17769553e-01,  1.13639313e+00,\n",
       "          7.89717444e-01, -4.17769553e-01,  8.47952217e-01,\n",
       "          8.74213733e-01],\n",
       "        [-8.94308978e-01,  2.09934449e-03, -9.43643106e-01,\n",
       "         -8.83052126e-01,  2.09934449e-03, -9.08683166e-01,\n",
       "         -1.14312018e-01],\n",
       "        [ 1.45501408e+00, -4.17769553e-01,  9.97724048e-01,\n",
       "          1.48170552e+00, -4.17769553e-01,  1.45400607e+00,\n",
       "          9.49332468e-02],\n",
       "        [ 3.58663321e-01, -2.07835104e-01,  9.28389507e-01,\n",
       "          3.00024267e-01, -2.07835104e-01,  3.82111097e-01,\n",
       "          1.71647571e+00],\n",
       "        [ 1.14177101e+00, -4.17769553e-01,  9.97724048e-01,\n",
       "          1.13013093e+00, -4.17769553e-01,  1.13758569e+00,\n",
       "          1.98596718e-02],\n",
       "        [-4.24444366e-01,  2.10144383e+00, -9.43643106e-01,\n",
       "         -4.60325538e-01,  2.10144383e+00, -5.28225324e-01,\n",
       "          2.78895657e-01],\n",
       "        [ 3.58663321e-01,  1.47164049e+00, -8.04974023e-01,\n",
       "          3.00024267e-01,  1.47164049e+00,  1.72838356e-01,\n",
       "          2.70811007e-03],\n",
       "        [ 1.76825716e+00, -4.17769553e-01,  1.20572767e+00,\n",
       "          1.84444121e+00, -4.17769553e-01,  1.80558428e+00,\n",
       "          1.08190246e+00],\n",
       "        [-1.05093052e+00,  2.09934449e-03, -8.74308565e-01,\n",
       "         -1.01838044e+00,  2.09934449e-03, -1.02210899e+00,\n",
       "         -9.83345788e-01],\n",
       "        [-1.11201292e-01,  1.68157493e+00, -1.08231219e+00,\n",
       "         -1.64556439e-01,  1.68157493e+00, -2.78772218e-01,\n",
       "         -2.59712709e-01],\n",
       "        [ 3.58663321e-01, -6.27704002e-01,  8.59054966e-01,\n",
       "          3.00024267e-01, -6.27704002e-01,  3.73740187e-01,\n",
       "         -4.53637247e-02],\n",
       "        [-7.37687441e-01,  1.05177159e+00, -1.01297765e+00,\n",
       "         -7.44933538e-01,  1.05177159e+00, -7.92746068e-01,\n",
       "         -7.35054120e-01],\n",
       "        [-1.11201292e-01,  6.31902691e-01, -9.43643106e-01,\n",
       "         -1.64556439e-01,  6.31902691e-01, -2.62030398e-01,\n",
       "          5.03334896e-01],\n",
       "        [ 1.14177101e+00, -1.88731069e+00,  1.13639313e+00,\n",
       "          1.13013093e+00, -1.88731069e+00,  1.15432751e+00,\n",
       "          5.61001444e-01],\n",
       "        [ 1.92487869e+00,  2.09934449e-03,  1.06705859e+00,\n",
       "          2.02999446e+00,  2.09934449e-03,  1.95584211e+00,\n",
       "          1.04135740e+00],\n",
       "        [ 2.02041783e-01, -1.25750735e+00,  7.20385883e-01,\n",
       "          1.42373757e-01, -1.25750735e+00,  2.15111450e-01,\n",
       "         -1.56537249e-01],\n",
       "        [-1.52079513e+00, -1.67737625e+00, -1.08231219e+00,\n",
       "         -1.40762373e+00, -1.67737625e+00, -1.39754429e+00,\n",
       "          4.39926934e-01]]),\n",
       " array([1, 0, 0, 0, 1, 0, 0, 0, 0, 1, 0, 0, 1, 0, 0, 1, 0, 0, 1, 1, 0, 1,\n",
       "        0, 1, 0, 1, 0, 1, 1, 0, 0, 0, 1, 1, 1, 0, 1, 0, 1, 1, 1, 0, 1, 0,\n",
       "        1, 1, 1, 0, 1, 0, 0, 0, 0, 1, 1, 0, 0, 1, 1, 0, 1, 1, 1, 0, 0, 1,\n",
       "        0, 0, 1, 0, 0, 1, 1, 1, 0], dtype=int64))"
      ]
     },
     "execution_count": 36,
     "metadata": {},
     "output_type": "execute_result"
    }
   ],
   "source": [
    "X_train,Y_train"
   ]
  },
  {
   "cell_type": "markdown",
   "metadata": {
    "colab_type": "text",
    "id": "Ydm98u3EblUU"
   },
   "source": [
    "### Doing perturbation test to check the presence of collinearity  \n",
    "\n",
    "#### Task: 1 Logistic Regression\n",
    "<pre>\n",
    "\n",
    "\n",
    "1. <b>Finding the Correlation between the features</b>\n",
    "    a. check the correlation between the features\n",
    "    b. plot heat map of correlation matrix using seaborn heatmap\n",
    "2. <b>Finding the best model for the given data</b>\n",
    "    a. Train Logistic regression on data(X,Y) that we have created in the above cell\n",
    "    b. Find the best hyper prameter alpha with hyper parameter tuning using k-fold cross validation (grid search CV or         random search CV make sure you choose the alpha in log space)\n",
    "    c. Creat a new Logistic regression with the best alpha(search for how to get the best hyper parameter value), name the best model as 'best_model'\n",
    "    \n",
    "3. <b>Getting the weights with the original data</b>\n",
    "    a. train the 'best_model' with X, Y\n",
    "    b. Check the accuracy of the model 'best_model_accuracy'\n",
    "    c. Get the weights W using best_model.coef_\n",
    "\n",
    "4. <b>Modifying original data</b>\n",
    "    a. Add a noise(order of 10^-2) to each element of X and get the new data set X' (X' = X + e)\n",
    "    b. Train the same 'best_model' with data (X', Y)\n",
    "    c. Check the accuracy of the model 'best_model_accuracy_edited'\n",
    "    d. Get the weights W' using best_model.coef_\n",
    "    \n",
    "5. <b> Checking deviations in metric and weights </b>\n",
    "    a. find the difference between 'best_model_accuracy_edited' and 'best_model_accuracy'\n",
    "    b. find the absolute change between each value of W and W' ==> |(W-W')|\n",
    "    c. print the top 4 features which have higher % change in weights compare to the other feature\n",
    "\n",
    "</pre>\n",
    "\n",
    "#### Task: 2 Linear SVM\n",
    "\n",
    "<pre>\n",
    "1. Do the same steps (2, 3, 4, 5) we have done in the above task 1.\n",
    "</pre>\n",
    "\n",
    "<strong><font color='red'>Do write the observations based on the results you get from the deviations of weights in both Logistic Regression and linear SVM</font></strong>"
   ]
  },
  {
   "cell_type": "markdown",
   "metadata": {
    "colab": {},
    "colab_type": "code",
    "id": "Lai8wXU1pmSb"
   },
   "source": [
    "# Task: 1 Logistic Regression"
   ]
  },
  {
   "cell_type": "markdown",
   "metadata": {},
   "source": [
    "### 1. Finding the Correlation between the features"
   ]
  },
  {
   "cell_type": "code",
   "execution_count": 7,
   "metadata": {},
   "outputs": [
    {
     "data": {
      "text/html": [
       "<div>\n",
       "<style scoped>\n",
       "    .dataframe tbody tr th:only-of-type {\n",
       "        vertical-align: middle;\n",
       "    }\n",
       "\n",
       "    .dataframe tbody tr th {\n",
       "        vertical-align: top;\n",
       "    }\n",
       "\n",
       "    .dataframe thead th {\n",
       "        text-align: right;\n",
       "    }\n",
       "</style>\n",
       "<table border=\"1\" class=\"dataframe\">\n",
       "  <thead>\n",
       "    <tr style=\"text-align: right;\">\n",
       "      <th></th>\n",
       "      <th>x</th>\n",
       "      <th>y</th>\n",
       "      <th>z</th>\n",
       "      <th>x*x</th>\n",
       "      <th>2*y</th>\n",
       "      <th>2*z+3*x*x</th>\n",
       "      <th>w</th>\n",
       "      <th>target</th>\n",
       "    </tr>\n",
       "  </thead>\n",
       "  <tbody>\n",
       "    <tr>\n",
       "      <th>x</th>\n",
       "      <td>1.000000</td>\n",
       "      <td>-0.205926</td>\n",
       "      <td>0.812458</td>\n",
       "      <td>0.997947</td>\n",
       "      <td>-0.205926</td>\n",
       "      <td>0.996252</td>\n",
       "      <td>0.583277</td>\n",
       "      <td>0.728290</td>\n",
       "    </tr>\n",
       "    <tr>\n",
       "      <th>y</th>\n",
       "      <td>-0.205926</td>\n",
       "      <td>1.000000</td>\n",
       "      <td>-0.602663</td>\n",
       "      <td>-0.209289</td>\n",
       "      <td>1.000000</td>\n",
       "      <td>-0.261123</td>\n",
       "      <td>-0.401790</td>\n",
       "      <td>-0.690684</td>\n",
       "    </tr>\n",
       "    <tr>\n",
       "      <th>z</th>\n",
       "      <td>0.812458</td>\n",
       "      <td>-0.602663</td>\n",
       "      <td>1.000000</td>\n",
       "      <td>0.807137</td>\n",
       "      <td>-0.602663</td>\n",
       "      <td>0.847163</td>\n",
       "      <td>0.674486</td>\n",
       "      <td>0.969990</td>\n",
       "    </tr>\n",
       "    <tr>\n",
       "      <th>x*x</th>\n",
       "      <td>0.997947</td>\n",
       "      <td>-0.209289</td>\n",
       "      <td>0.807137</td>\n",
       "      <td>1.000000</td>\n",
       "      <td>-0.209289</td>\n",
       "      <td>0.997457</td>\n",
       "      <td>0.583803</td>\n",
       "      <td>0.719570</td>\n",
       "    </tr>\n",
       "    <tr>\n",
       "      <th>2*y</th>\n",
       "      <td>-0.205926</td>\n",
       "      <td>1.000000</td>\n",
       "      <td>-0.602663</td>\n",
       "      <td>-0.209289</td>\n",
       "      <td>1.000000</td>\n",
       "      <td>-0.261123</td>\n",
       "      <td>-0.401790</td>\n",
       "      <td>-0.690684</td>\n",
       "    </tr>\n",
       "    <tr>\n",
       "      <th>2*z+3*x*x</th>\n",
       "      <td>0.996252</td>\n",
       "      <td>-0.261123</td>\n",
       "      <td>0.847163</td>\n",
       "      <td>0.997457</td>\n",
       "      <td>-0.261123</td>\n",
       "      <td>1.000000</td>\n",
       "      <td>0.606860</td>\n",
       "      <td>0.764729</td>\n",
       "    </tr>\n",
       "    <tr>\n",
       "      <th>w</th>\n",
       "      <td>0.583277</td>\n",
       "      <td>-0.401790</td>\n",
       "      <td>0.674486</td>\n",
       "      <td>0.583803</td>\n",
       "      <td>-0.401790</td>\n",
       "      <td>0.606860</td>\n",
       "      <td>1.000000</td>\n",
       "      <td>0.641750</td>\n",
       "    </tr>\n",
       "    <tr>\n",
       "      <th>target</th>\n",
       "      <td>0.728290</td>\n",
       "      <td>-0.690684</td>\n",
       "      <td>0.969990</td>\n",
       "      <td>0.719570</td>\n",
       "      <td>-0.690684</td>\n",
       "      <td>0.764729</td>\n",
       "      <td>0.641750</td>\n",
       "      <td>1.000000</td>\n",
       "    </tr>\n",
       "  </tbody>\n",
       "</table>\n",
       "</div>"
      ],
      "text/plain": [
       "                  x         y         z       x*x       2*y  2*z+3*x*x  \\\n",
       "x          1.000000 -0.205926  0.812458  0.997947 -0.205926   0.996252   \n",
       "y         -0.205926  1.000000 -0.602663 -0.209289  1.000000  -0.261123   \n",
       "z          0.812458 -0.602663  1.000000  0.807137 -0.602663   0.847163   \n",
       "x*x        0.997947 -0.209289  0.807137  1.000000 -0.209289   0.997457   \n",
       "2*y       -0.205926  1.000000 -0.602663 -0.209289  1.000000  -0.261123   \n",
       "2*z+3*x*x  0.996252 -0.261123  0.847163  0.997457 -0.261123   1.000000   \n",
       "w          0.583277 -0.401790  0.674486  0.583803 -0.401790   0.606860   \n",
       "target     0.728290 -0.690684  0.969990  0.719570 -0.690684   0.764729   \n",
       "\n",
       "                  w    target  \n",
       "x          0.583277  0.728290  \n",
       "y         -0.401790 -0.690684  \n",
       "z          0.674486  0.969990  \n",
       "x*x        0.583803  0.719570  \n",
       "2*y       -0.401790 -0.690684  \n",
       "2*z+3*x*x  0.606860  0.764729  \n",
       "w          1.000000  0.641750  \n",
       "target     0.641750  1.000000  "
      ]
     },
     "execution_count": 7,
     "metadata": {},
     "output_type": "execute_result"
    }
   ],
   "source": [
    "# a. check the correlation between the features\n",
    "\n",
    "data.corr()"
   ]
  },
  {
   "cell_type": "code",
   "execution_count": 8,
   "metadata": {},
   "outputs": [
    {
     "data": {
      "text/plain": [
       "<matplotlib.axes._subplots.AxesSubplot at 0xc22da20>"
      ]
     },
     "execution_count": 8,
     "metadata": {},
     "output_type": "execute_result"
    },
    {
     "data": {
      "image/png": "[encoded data removed]",
      "text/plain": [
       "<Figure size 432x288 with 2 Axes>"
      ]
     },
     "metadata": {
      "needs_background": "light"
     },
     "output_type": "display_data"
    }
   ],
   "source": [
    "# b. plot heat map of correlation matrix using seaborn heatmap\n",
    "\n",
    "sns.heatmap(data.corr())"
   ]
  },
  {
   "cell_type": "markdown",
   "metadata": {},
   "source": [
    "### 2. Finding the best model for the given data"
   ]
  },
  {
   "cell_type": "code",
   "execution_count": 9,
   "metadata": {},
   "outputs": [
    {
     "data": {
      "text/plain": [
       "SGDClassifier(alpha=0.0001, average=False, class_weight=None,\n",
       "       early_stopping=False, epsilon=0.1, eta0=0.0, fit_intercept=True,\n",
       "       l1_ratio=0.15, learning_rate='optimal', loss='log', max_iter=None,\n",
       "       n_iter=None, n_iter_no_change=5, n_jobs=None, penalty='l2',\n",
       "       power_t=0.5, random_state=None, shuffle=True, tol=None,\n",
       "       validation_fraction=0.1, verbose=0, warm_start=False)"
      ]
     },
     "execution_count": 9,
     "metadata": {},
     "output_type": "execute_result"
    }
   ],
   "source": [
    "# a. Train Logistic regression on data(X,Y) that we have created in the above cell\n",
    "\n",
    "cfg = SGDClassifier(loss='log')\n",
    "cfg.fit(X_train,Y_train)"
   ]
  },
  {
   "cell_type": "code",
   "execution_count": 10,
   "metadata": {},
   "outputs": [
    {
     "name": "stdout",
     "output_type": "stream",
     "text": [
      "SGDClassifier(alpha=0.01, average=False, class_weight=None,\n",
      "       early_stopping=False, epsilon=0.1, eta0=0.0, fit_intercept=True,\n",
      "       l1_ratio=0.15, learning_rate='optimal', loss='log', max_iter=None,\n",
      "       n_iter=None, n_iter_no_change=5, n_jobs=None, penalty='l2',\n",
      "       power_t=0.5, random_state=1, shuffle=True, tol=None,\n",
      "       validation_fraction=0.1, verbose=0, warm_start=False)\n"
     ]
    }
   ],
   "source": [
    "# b. Find the best hyper prameter alpha with hyper parameter tuning using k-fold cross validation \n",
    "\n",
    "tuned_para = [{'alpha':[10**-4,10**-2,10**0,10**2,10**4]}]\n",
    "model = GridSearchCV(SGDClassifier(loss='log',random_state = 1),tuned_para)\n",
    "model.fit(X_train,Y_train)\n",
    "print(model.best_estimator_)"
   ]
  },
  {
   "cell_type": "code",
   "execution_count": 11,
   "metadata": {},
   "outputs": [],
   "source": [
    "# c. Creat a new Logistic regression with the best alpha(search for how to get the best hyper parameter value), name the best model as 'best_model'\n",
    "\n",
    "best_model = SGDClassifier(loss='log',alpha=0.01)"
   ]
  },
  {
   "cell_type": "markdown",
   "metadata": {},
   "source": [
    "### 3. Getting the weights with the original data"
   ]
  },
  {
   "cell_type": "code",
   "execution_count": 12,
   "metadata": {},
   "outputs": [
    {
     "data": {
      "text/plain": [
       "SGDClassifier(alpha=0.01, average=False, class_weight=None,\n",
       "       early_stopping=False, epsilon=0.1, eta0=0.0, fit_intercept=True,\n",
       "       l1_ratio=0.15, learning_rate='optimal', loss='log', max_iter=None,\n",
       "       n_iter=None, n_iter_no_change=5, n_jobs=None, penalty='l2',\n",
       "       power_t=0.5, random_state=None, shuffle=True, tol=None,\n",
       "       validation_fraction=0.1, verbose=0, warm_start=False)"
      ]
     },
     "execution_count": 12,
     "metadata": {},
     "output_type": "execute_result"
    }
   ],
   "source": [
    "# a. train the 'best_model' with X, Y\n",
    "\n",
    "best_model.fit(X_train,Y_train)"
   ]
  },
  {
   "cell_type": "code",
   "execution_count": 13,
   "metadata": {},
   "outputs": [
    {
     "name": "stdout",
     "output_type": "stream",
     "text": [
      "1.0\n"
     ]
    }
   ],
   "source": [
    "# b. Check the accuracy of the model 'best_model_accuracy'\n",
    "\n",
    "best_model_accuracy = best_model.score(X_test,Y_test)\n",
    "print(best_model_accuracy)"
   ]
  },
  {
   "cell_type": "code",
   "execution_count": 14,
   "metadata": {},
   "outputs": [
    {
     "name": "stdout",
     "output_type": "stream",
     "text": [
      "[[ 0.71392077 -0.84989874  1.83835164  0.63333854 -0.84989874  0.79195873\n",
      "   0.47601577]]\n"
     ]
    }
   ],
   "source": [
    "# c. Get the weights W using best_model.coef_\n",
    "W = best_model.coef_\n",
    "print(W)"
   ]
  },
  {
   "cell_type": "markdown",
   "metadata": {},
   "source": [
    "### 4. Modifying original data"
   ]
  },
  {
   "cell_type": "code",
   "execution_count": 15,
   "metadata": {},
   "outputs": [],
   "source": [
    "# a. Add a noise(order of 10^-2) to each element of X and get the new data set X' (X' = X + e)\n",
    "\n",
    "X_train_new = X_train+0.01"
   ]
  },
  {
   "cell_type": "code",
   "execution_count": 16,
   "metadata": {},
   "outputs": [
    {
     "data": {
      "text/plain": [
       "SGDClassifier(alpha=0.01, average=False, class_weight=None,\n",
       "       early_stopping=False, epsilon=0.1, eta0=0.0, fit_intercept=True,\n",
       "       l1_ratio=0.15, learning_rate='optimal', loss='log', max_iter=None,\n",
       "       n_iter=None, n_iter_no_change=5, n_jobs=None, penalty='l2',\n",
       "       power_t=0.5, random_state=None, shuffle=True, tol=None,\n",
       "       validation_fraction=0.1, verbose=0, warm_start=False)"
      ]
     },
     "execution_count": 16,
     "metadata": {},
     "output_type": "execute_result"
    }
   ],
   "source": [
    "# b. Train the same 'best_model' with data (X', Y)\n",
    "best_model.fit(X_train_new,Y_train)"
   ]
  },
  {
   "cell_type": "code",
   "execution_count": 17,
   "metadata": {},
   "outputs": [
    {
     "name": "stdout",
     "output_type": "stream",
     "text": [
      "1.0\n"
     ]
    }
   ],
   "source": [
    "# c. Check the accuracy of the model 'best_model_accuracy_edited'\n",
    "best_model_accuracy_edited = best_model.score(X_test,Y_test)\n",
    "print(best_model_accuracy_edited)"
   ]
  },
  {
   "cell_type": "code",
   "execution_count": 18,
   "metadata": {},
   "outputs": [
    {
     "name": "stdout",
     "output_type": "stream",
     "text": [
      "[[ 0.75015978 -0.88687805  1.70383348  0.69805751 -0.88687805  0.83399534\n",
      "   0.47021967]]\n"
     ]
    }
   ],
   "source": [
    "# d. Get the weights W' using best_model.coef_\n",
    "W_error = best_model.coef_\n",
    "print(W_error)"
   ]
  },
  {
   "cell_type": "markdown",
   "metadata": {},
   "source": [
    "## 5.  Checking deviations in metric and weights "
   ]
  },
  {
   "cell_type": "code",
   "execution_count": 19,
   "metadata": {},
   "outputs": [
    {
     "name": "stdout",
     "output_type": "stream",
     "text": [
      "0.0\n"
     ]
    }
   ],
   "source": [
    "# a. find the difference between 'best_model_accuracy_edited' and 'best_model_accuracy'\n",
    "print(best_model_accuracy - best_model_accuracy_edited)"
   ]
  },
  {
   "cell_type": "code",
   "execution_count": 20,
   "metadata": {},
   "outputs": [
    {
     "name": "stdout",
     "output_type": "stream",
     "text": [
      "[[0.03623901 0.03697931 0.13451815 0.06471897 0.03697931 0.0420366\n",
      "  0.0057961 ]]\n"
     ]
    }
   ],
   "source": [
    "# b. find the absolute change between each value of W and W' ==> |(W-W')|\n",
    "W_change = abs(W-W_error)\n",
    "print(W_change)"
   ]
  },
  {
   "cell_type": "code",
   "execution_count": 21,
   "metadata": {},
   "outputs": [
    {
     "name": "stdout",
     "output_type": "stream",
     "text": [
      "Top 4 features which have higher % change in weights compare to the other feature\n",
      "('x*x', 10.21870045461081)\n",
      "('z', 7.317324378945202)\n",
      "('2*z+3*x*x', 5.307928468448101)\n",
      "('x', 5.076054953800743)\n"
     ]
    }
   ],
   "source": [
    "# c. print the top 4 features which have higher % change in weights compare to the other feature\n",
    "feat = list(data.columns) \n",
    "percent_values = list((W_change*100/abs(W))[0])\n",
    "values = sorted(zip(feat,percent_values),key = lambda x: x[1],reverse = True)\n",
    "# print(values)\n",
    "i = 0\n",
    "print('Top 4 features which have higher % change in weights compare to the other feature')\n",
    "for x,y in enumerate(values):\n",
    "    if i<4:\n",
    "        print(y)\n",
    "    i+=1"
   ]
  },
  {
   "cell_type": "markdown",
   "metadata": {
    "colab": {},
    "colab_type": "code",
    "id": "Lai8wXU1pmSb"
   },
   "source": [
    "## Task: 2 Linear SVM"
   ]
  },
  {
   "cell_type": "markdown",
   "metadata": {},
   "source": [
    "### 2. Finding the best model for the given data"
   ]
  },
  {
   "cell_type": "code",
   "execution_count": 22,
   "metadata": {},
   "outputs": [
    {
     "data": {
      "text/plain": [
       "SGDClassifier(alpha=0.0001, average=False, class_weight=None,\n",
       "       early_stopping=False, epsilon=0.1, eta0=0.0, fit_intercept=True,\n",
       "       l1_ratio=0.15, learning_rate='optimal', loss='hinge', max_iter=None,\n",
       "       n_iter=None, n_iter_no_change=5, n_jobs=None, penalty='l2',\n",
       "       power_t=0.5, random_state=None, shuffle=True, tol=None,\n",
       "       validation_fraction=0.1, verbose=0, warm_start=False)"
      ]
     },
     "execution_count": 22,
     "metadata": {},
     "output_type": "execute_result"
    }
   ],
   "source": [
    "# a. Train Logistic regression on data(X,Y) that we have created in the above cell\n",
    "\n",
    "cfg = SGDClassifier(loss='hinge')\n",
    "cfg.fit(X_train,Y_train)"
   ]
  },
  {
   "cell_type": "code",
   "execution_count": 23,
   "metadata": {},
   "outputs": [
    {
     "name": "stdout",
     "output_type": "stream",
     "text": [
      "SGDClassifier(alpha=0.01, average=False, class_weight=None,\n",
      "       early_stopping=False, epsilon=0.1, eta0=0.0, fit_intercept=True,\n",
      "       l1_ratio=0.15, learning_rate='optimal', loss='hinge', max_iter=None,\n",
      "       n_iter=None, n_iter_no_change=5, n_jobs=None, penalty='l2',\n",
      "       power_t=0.5, random_state=1, shuffle=True, tol=None,\n",
      "       validation_fraction=0.1, verbose=0, warm_start=False)\n"
     ]
    }
   ],
   "source": [
    "# b. Find the best hyper prameter alpha with hyper parameter tuning using k-fold cross validation \n",
    "\n",
    "tuned_para = [{'alpha':[10**-4,10**-2,10**0,10**2,10**4]}]\n",
    "model = GridSearchCV(SGDClassifier(loss='hinge',random_state = 1),tuned_para)\n",
    "model.fit(X_train,Y_train)\n",
    "print(model.best_estimator_)"
   ]
  },
  {
   "cell_type": "code",
   "execution_count": 24,
   "metadata": {},
   "outputs": [],
   "source": [
    "# c. Creat a new Logistic regression with the best alpha(search for how to get the best hyper parameter value), name the best model as 'best_model'\n",
    "\n",
    "best_model = SGDClassifier(loss='hinge',alpha=0.01,random_state = 1)"
   ]
  },
  {
   "cell_type": "markdown",
   "metadata": {},
   "source": [
    "### 3. Getting the weights with the original data"
   ]
  },
  {
   "cell_type": "code",
   "execution_count": 25,
   "metadata": {},
   "outputs": [
    {
     "data": {
      "text/plain": [
       "SGDClassifier(alpha=0.01, average=False, class_weight=None,\n",
       "       early_stopping=False, epsilon=0.1, eta0=0.0, fit_intercept=True,\n",
       "       l1_ratio=0.15, learning_rate='optimal', loss='hinge', max_iter=None,\n",
       "       n_iter=None, n_iter_no_change=5, n_jobs=None, penalty='l2',\n",
       "       power_t=0.5, random_state=1, shuffle=True, tol=None,\n",
       "       validation_fraction=0.1, verbose=0, warm_start=False)"
      ]
     },
     "execution_count": 25,
     "metadata": {},
     "output_type": "execute_result"
    }
   ],
   "source": [
    "# a. train the 'best_model' with X, Y\n",
    "\n",
    "best_model.fit(X_train,Y_train)"
   ]
  },
  {
   "cell_type": "code",
   "execution_count": 26,
   "metadata": {},
   "outputs": [
    {
     "name": "stdout",
     "output_type": "stream",
     "text": [
      "1.0\n"
     ]
    }
   ],
   "source": [
    "# b. Check the accuracy of the model 'best_model_accuracy'\n",
    "\n",
    "best_model_accuracy = best_model.score(X_test,Y_test)\n",
    "print(best_model_accuracy)"
   ]
  },
  {
   "cell_type": "code",
   "execution_count": 27,
   "metadata": {},
   "outputs": [
    {
     "name": "stdout",
     "output_type": "stream",
     "text": [
      "[[ 0.45215365 -0.51807836  1.48045548  0.42888775 -0.51807836  0.56474155\n",
      "   0.32196128]]\n"
     ]
    }
   ],
   "source": [
    "# c. Get the weights W using best_model.coef_\n",
    "W = best_model.coef_\n",
    "print(W)"
   ]
  },
  {
   "cell_type": "markdown",
   "metadata": {},
   "source": [
    "### 4. Modifying original data"
   ]
  },
  {
   "cell_type": "code",
   "execution_count": 28,
   "metadata": {},
   "outputs": [],
   "source": [
    "# a. Add a noise(order of 10^-2) to each element of X and get the new data set X' (X' = X + e)\n",
    "\n",
    "X_train_new = X_train+0.01"
   ]
  },
  {
   "cell_type": "code",
   "execution_count": 29,
   "metadata": {},
   "outputs": [
    {
     "data": {
      "text/plain": [
       "SGDClassifier(alpha=0.01, average=False, class_weight=None,\n",
       "       early_stopping=False, epsilon=0.1, eta0=0.0, fit_intercept=True,\n",
       "       l1_ratio=0.15, learning_rate='optimal', loss='hinge', max_iter=None,\n",
       "       n_iter=None, n_iter_no_change=5, n_jobs=None, penalty='l2',\n",
       "       power_t=0.5, random_state=1, shuffle=True, tol=None,\n",
       "       validation_fraction=0.1, verbose=0, warm_start=False)"
      ]
     },
     "execution_count": 29,
     "metadata": {},
     "output_type": "execute_result"
    }
   ],
   "source": [
    "# b. Train the same 'best_model' with data (X', Y)\n",
    "best_model.fit(X_train_new,Y_train)"
   ]
  },
  {
   "cell_type": "code",
   "execution_count": 30,
   "metadata": {},
   "outputs": [
    {
     "name": "stdout",
     "output_type": "stream",
     "text": [
      "1.0\n"
     ]
    }
   ],
   "source": [
    "# c. Check the accuracy of the model 'best_model_accuracy_edited'\n",
    "best_model_accuracy_edited = best_model.score(X_test,Y_test)\n",
    "print(best_model_accuracy_edited)"
   ]
  },
  {
   "cell_type": "code",
   "execution_count": 31,
   "metadata": {},
   "outputs": [
    {
     "name": "stdout",
     "output_type": "stream",
     "text": [
      "[[ 0.73126318 -0.78528992  1.97252728  0.69455317 -0.78528992  0.86340519\n",
      "   0.24176932]]\n"
     ]
    }
   ],
   "source": [
    "# d. Get the weights W' using best_model.coef_\n",
    "W_error = best_model.coef_\n",
    "print(W_error)"
   ]
  },
  {
   "cell_type": "markdown",
   "metadata": {},
   "source": [
    "## 5.  Checking deviations in metric and weights "
   ]
  },
  {
   "cell_type": "code",
   "execution_count": 32,
   "metadata": {},
   "outputs": [
    {
     "name": "stdout",
     "output_type": "stream",
     "text": [
      "0.0\n"
     ]
    }
   ],
   "source": [
    "# a. find the difference between 'best_model_accuracy_edited' and 'best_model_accuracy'\n",
    "print(best_model_accuracy - best_model_accuracy_edited)"
   ]
  },
  {
   "cell_type": "code",
   "execution_count": 33,
   "metadata": {},
   "outputs": [
    {
     "name": "stdout",
     "output_type": "stream",
     "text": [
      "[[0.27910953 0.26721156 0.4920718  0.26566542 0.26721156 0.29866364\n",
      "  0.08019196]]\n"
     ]
    }
   ],
   "source": [
    "# b. find the absolute change between each value of W and W' ==> |(W-W')|\n",
    "W_change = abs(W-W_error)\n",
    "print(W_change)"
   ]
  },
  {
   "cell_type": "code",
   "execution_count": 34,
   "metadata": {},
   "outputs": [
    {
     "name": "stdout",
     "output_type": "stream",
     "text": [
      "[('x*x', 61.94287977806593), ('x', 61.72891086334997), ('2*z+3*x*x', 52.885012958777835), ('y', 51.57744005458996), ('2*y', 51.57744005458996), ('z', 33.23786540840495), ('w', 24.90733150080833)]\n",
      "Top 4 features which have higher % change in weights compare to the other feature\n",
      "('x*x', 61.94287977806593)\n",
      "('x', 61.72891086334997)\n",
      "('2*z+3*x*x', 52.885012958777835)\n",
      "('y', 51.57744005458996)\n"
     ]
    }
   ],
   "source": [
    "# c. print the top 4 features which have higher % change in weights compare to the other feature\n",
    "feat = list(data.columns) \n",
    "percent_values = list((W_change*100/abs(W))[0])\n",
    "values = sorted(zip(feat,percent_values),key = lambda x: x[1],reverse = True)\n",
    "print(values)\n",
    "i = 0\n",
    "print('Top 4 features which have higher % change in weights compare to the other feature')\n",
    "for x,y in enumerate(values):\n",
    "    if i<4:\n",
    "        print(y)\n",
    "    i+=1"
   ]
  }
 ],
 "metadata": {
  "colab": {
   "name": "8D_LR_SVM.ipynb",
   "provenance": []
  },
  "kernelspec": {
   "display_name": "Python 3",
   "language": "python",
   "name": "python3"
  },
  "language_info": {
   "codemirror_mode": {
    "name": "ipython",
    "version": 3
   },
   "file_extension": ".py",
   "mimetype": "text/x-python",
   "name": "python",
   "nbconvert_exporter": "python",
   "pygments_lexer": "ipython3",
   "version": "3.7.3"
  }
 },
 "nbformat": 4,
 "nbformat_minor": 1
}
